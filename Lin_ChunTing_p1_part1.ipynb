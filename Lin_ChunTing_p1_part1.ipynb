{
 "cells": [
  {
   "cell_type": "code",
   "execution_count": 1,
   "id": "42f4e006",
   "metadata": {},
   "outputs": [
    {
     "name": "stdout",
     "output_type": "stream",
     "text": [
      "0.7542087542087542\n"
     ]
    }
   ],
   "source": [
    "import pandas as pd\n",
    "# pandas is a Python package prooviding fast, flexible, and expressive data structures designed to make working with\n",
    "# \"relational\" or \"labeled\" data both easy and intuituve.\n",
    "\n",
    "from sklearn.linear_model import LogisticRegression\n",
    "# sklearn.linear_model is a machine learning package. It offers a set of fast tools for machine learning and \n",
    "# statistical modeling, such as classification, regression, clustering, and dimenstionality reduction, and we want\n",
    "# to import LogisticRegression tool from sklearn.linear_model.\n",
    "\n",
    "from sklearn.metrics import accuracy_score\n",
    "# sklearn.metrics is a module that implements several loss, score, and utility functions to measure classification\n",
    "# performance, and we are want to import the accuracy_score from the sklearn.metrics.\n",
    "\n",
    "import pickle\n",
    "# pickle is a module that is used for serializing and de-reserializing a Python object structure.\n",
    "\n",
    "df = pd.read_csv('heart_disease.csv')\n",
    "# df means data frame, the read_csv() function is used to retrieve data from from csv file, and this function is \n",
    "# in the pandas package so there is a pd. in front of the function.\n",
    "\n",
    "X = df.iloc[:,1:len(df.columns)]\n",
    "# iloc() function helps us to select a specfic row or column from the data set. The iloc indexer syntax is \n",
    "# iloc[<row selection>, <column selection>], so df.iloc[:, 1:len(df.columns)] means selecting all the rows and \n",
    "# selecting columns from the index 1 to the end of data frame.\n",
    "\n",
    "y = df.iloc[:,0]\n",
    "# df.iloc[:,0] means selecting all the rows and the first column of data frame.\n",
    "\n",
    "model = LogisticRegression(max_iter=800)\n",
    "# max_iter is the maximum number of iterations for the solver to converge, it is an integer and the default value\n",
    "# is 100, but we change the maximum number of iterations to 800 in the model.\n",
    "\n",
    "model.fit(X,y)\n",
    "# model.fit(X,y) means fit the model according to the given training data.\n",
    "\n",
    "predictions = model.predict(X)\n",
    "# model.predict(X) means predict class labels for samples in X.\n",
    "\n",
    "print(accuracy_score(y,predictions))\n",
    "# accuracy_score function of the sklearn.metrics package calculates the accuracy score for a set of predicted \n",
    "# labels against the true labels, y is the true label and predictions is the predicted label.\n",
    "\n",
    "pickle_out = open('classifier', mode='wb')\n",
    "# the open() function returns a file object which can used to read, write, and modify the file.\n",
    "# open('classifier', mode = 'wb') means open the file name 'classifier' and opened for writing in binary mode.\n",
    "# 'wb' stands for write-binary.\n",
    "\n",
    "pickle.dump(model, pickle_out)\n",
    "# pickle.dump(model, pickle_out) means to dump information from pickle_out to model.\n",
    "\n",
    "pickle_out.close()\n",
    "# close the pickle_out object."
   ]
  },
  {
   "cell_type": "code",
   "execution_count": 1,
   "id": "ff22aebe",
   "metadata": {},
   "outputs": [
    {
     "name": "stdout",
     "output_type": "stream",
     "text": [
      "Overwriting app.py\n"
     ]
    }
   ],
   "source": [
    "%%writefile app.py\n",
    "\n",
    "import pickle\n",
    "import streamlit as st\n",
    "\n",
    "pickle_in = open('classifier', 'rb')\n",
    "classifier = pickle.load(pickle_in)\n",
    "\n",
    "@st.cache()\n",
    "\n",
    "# Define the function which will make the prediction using data\n",
    "# inputs from users\n",
    "def prediction(age, sex, non_anginal_pain, max_heart_rate, exercise_included_angina):\n",
    "    \n",
    "    # Make predictions\n",
    "    prediction = classifier.predict(\n",
    "        [[age, sex, non_anginal_pain, max_heart_rate, exercise_included_angina]])\n",
    "    \n",
    "    if prediction == 0:\n",
    "        pred = 'Your heart is very healthy!'\n",
    "    else:\n",
    "        pred = 'PLEASE SEE A DOCTOR!  You are diagnosed with heart disease!'\n",
    "    return pred\n",
    "\n",
    "# This is the main function in which we define our webpage\n",
    "def main():\n",
    "    \n",
    "    # Create input fields\n",
    "    age = st.number_input(\"Age(Pateint Age in Years)\",\n",
    "                                  min_value=1,\n",
    "                                  # min_value is the minimum permitted value. If None, there will be no minimum.\n",
    "                                  max_value=120,\n",
    "                                  # max_value is the maximum permitted value. If None, there will be no maximum.\n",
    "                                  value=60,\n",
    "                                  # It is the value that is displayed on this widget on its first render.\n",
    "                                  step=1,\n",
    "                                  # step is the stepping interval. Defaults to 1 if the values is an int.\n",
    "                                 )\n",
    "    sex = st.number_input(\"Sex(0 for Female and 1 for Male)\",\n",
    "                              min_value=0,\n",
    "                              max_value=1,\n",
    "                              value=0,\n",
    "                              step=1\n",
    "                             )\n",
    "\n",
    "    non_anginal_pain = st.number_input(\"Non anginal pain(1 if this type of pain is diagnosed; 0 otherwise)\",\n",
    "                              min_value=0,\n",
    "                              max_value=1,\n",
    "                              value=0,\n",
    "                              step=1\n",
    "                             )\n",
    "    max_heart_rate = st.number_input(\"Max heart rate(beats per minute)\",\n",
    "                          min_value=0,\n",
    "                          max_value=200,\n",
    "                          value=150,\n",
    "                          step=1\n",
    "                         )\n",
    "    exercise_included_angina = st.number_input(\"Exercise included angina(1 if this type of pain arises under the stress of exercise; 0 otherwise)\",\n",
    "                          min_value=0,\n",
    "                          max_value=1,\n",
    "                          value=0,\n",
    "                          step=1\n",
    "                    )\n",
    "\n",
    "    result = \"\"\n",
    "    \n",
    "    # When 'Predict' is clicked, make the prediction and store it\n",
    "    if st.button(\"Predict\"):\n",
    "        result = prediction(age, sex, non_anginal_pain, max_heart_rate, exercise_included_angina)\n",
    "        st.success(result)\n",
    "        \n",
    "if __name__=='__main__':\n",
    "    main()\n",
    "    "
   ]
  },
  {
   "cell_type": "code",
   "execution_count": null,
   "id": "5522e88b",
   "metadata": {
    "scrolled": true
   },
   "outputs": [],
   "source": [
    "!streamlit run app.py"
   ]
  },
  {
   "cell_type": "code",
   "execution_count": null,
   "id": "2554674a",
   "metadata": {},
   "outputs": [],
   "source": []
  }
 ],
 "metadata": {
  "kernelspec": {
   "display_name": "Python 3 (ipykernel)",
   "language": "python",
   "name": "python3"
  },
  "language_info": {
   "codemirror_mode": {
    "name": "ipython",
    "version": 3
   },
   "file_extension": ".py",
   "mimetype": "text/x-python",
   "name": "python",
   "nbconvert_exporter": "python",
   "pygments_lexer": "ipython3",
   "version": "3.9.7"
  }
 },
 "nbformat": 4,
 "nbformat_minor": 5
}
