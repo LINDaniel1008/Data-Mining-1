{
 "cells": [
  {
   "cell_type": "markdown",
   "id": "7d996212",
   "metadata": {},
   "source": [
    "# Table of Content<a class=\"anchor\" id=\"table-of-content\"></a>\n",
    "* [1. Problem Introduction and Motivation](#problem-introduction)\n",
    "* [2. Problem Background](#problem-background)\n",
    "* [3. Libraries and Custome Functions](#libraries)\n",
    "* [4. Data Preparation and Modeling](#modeling)\n",
    "* [5. Training and Testing Model](#train-test-model)\n",
    "* [6. Machine Learning](#machine-learning)"
   ]
  },
  {
   "cell_type": "markdown",
   "id": "a62023ec",
   "metadata": {},
   "source": [
    "# 1.Problem Introduction and Motivation<a class=\"anchor\" id=\"problem-introduction\"></a>\n",
    "* [Go to Top](#table-of-content)\n",
    "<img src ='https://hips.hearstapps.com/hmg-prod.s3.amazonaws.com/images/cars-collage-1657824102.jpg'/>\n",
    "     \n",
    "### Problem  Introduction and Motivation\n",
    ">Car is a vital tool that makes our life more convenient. In 2022, over 92% of households in the United States have a car. Seeing the differneces between the car prices, we hope to clarify the cause of the differences in car price and build a model that helps us predict the car prices. \n",
    "### Q & A\n",
    ">**What is the prediction we are trying to make?**<br>\n",
    ">We want to predict the car price according to the car's features.<br><br>\n",
    ">**Why is it important?  Who cares?**<br>\n",
    ">With the prediction, buyers and sellers of the car can both gain an insight of the car price. Creating more price transparency of the car. Sellers may want to see whether their price is similar to the market. Buyers may want to see if the car is over-pricing or lower-pricing, helping them to make decisions when buying cars.<br><br>\n",
    ">**What are the possible actions that could be taken as a result of this work?**<br>\n",
    ">For the sellers, they can evaluate the prices they set and make changes to the prices. For the buyers, they can compare the real price with the predicted price and help them decide whether to buy the car or not. <br><br>\n",
    ">**How do we define success?**<br>\n",
    ">We hope to build a model that the r2 in testing data is greater than 80%."
   ]
  },
  {
   "cell_type": "markdown",
   "id": "fb603ca0",
   "metadata": {},
   "source": [
    "# 2. Problem Background<a class=\"anchor\" id=\"problem-background\"></a>\n",
    "* [Go to Top](#table-of-content)\n",
    "### The climbing car prices\n",
    ">Due to several reasons, the car prices are rising in recent years. The main reason is the high demand and limited supplies. During the Covid-19 pandemic, many microchips manufactures changed to produce microchip for electronics, which demand is surging due to the pandemic, which cause the supplies of car-used microchips to drop. \n",
    "<img src ='https://i2.wp.com/financialsamurai.com/wp-content/uploads/2021/05/average-new-car-prices.png?fit=1456,9999'/>\n",
    "### The popularity of car brands\n",
    ">According to Customer Reports in 2022, the most popluar car brand is SUBARU, with a overall score of 81. The worst \n",
    "car brand is JEEP, with an overall score of 45. The overall score includes road tests, relaibility, satisfaction, and safety.\n",
    "<img src ='https://o.aolcdn.com/images/dims3/GLOB/legacy_thumbnail/1600x900/format/jpg/quality/85/https://s.aolcdn.com/os/ab/_cms/2022/02/17103259/consumer-reports-brand-report-cards.jpg'/>"
   ]
  },
  {
   "cell_type": "markdown",
   "id": "c829bf93",
   "metadata": {},
   "source": [
    "# 3. Libraries and Custome Functions<a class=\"anchor\" id=\"libraries\"></a>\n",
    "* [Go to Top](#table-of-content)"
   ]
  },
  {
   "cell_type": "code",
   "execution_count": 1,
   "id": "22bbf816",
   "metadata": {},
   "outputs": [],
   "source": [
    "import pandas as pd\n",
    "# pandas is a Python package providing fast, flexible, and expressive data structures designed to make working with\n",
    "# \"relational\" or \"labeled\" data both easy and intuituve.\n",
    "\n",
    "import numpy as np\n",
    "# numpy is a Python library used for working with arrays. Is also has functions for working in domain of linear \n",
    "# algebra, fourier transform, and matrices.\n",
    "\n",
    "import math\n",
    "# math module allows you to perform mathematical tasks on numbers.\n",
    "\n",
    "import statsmodels.api as sm\n",
    "# statsmodels is a Python package that allows users to explore data, estimate statistical models, and perform \n",
    "# statistical tests. API stands for application programming interface, an API acts as a communication layer, or as \n",
    "# an interface that allows different systems to talk to each other without having to understand exactly what each \n",
    "# other does.\n",
    "\n",
    "import pickle\n",
    "# pickle is a module that is used for serializing and de-reserializing a Python object structure.\n",
    "\n",
    "import matplotlib.pyplot as plt\n",
    "# matplotlib.pyplot is a collection of command style functions that make matplotlib work like MATLAB.\n",
    "\n",
    "import seaborn as sns\n",
    "# seaborn is a data visualization library for statistical graphic plotting in Python, and it is based on matplotlib.\n",
    "\n",
    "import plotly.graph_objects as go\n",
    "# plotly.graph_objects is a module that contains an automatically generated hierarchy of Python classes which \n",
    "# represent non-leaf nodes in this figure schema.\n",
    "\n",
    "from sklearn.linear_model import LogisticRegression\n",
    "# sklearn.linear_model is a machine learning package. It offers a set of fast tools for machine learning and \n",
    "# statistical modeling, such as classification, regression, clustering, and dimenstionality reduction, and we want\n",
    "# to import LogisticRegression tool from sklearn.linear_model.\n",
    "\n",
    "from sklearn.metrics import accuracy_score\n",
    "# sklearn.metrics is a module that implements several loss, score, and utility functions to measure classification\n",
    "# performance, the accuracy_score function calculates the accuracy score for a set of predicted labels against the \n",
    "# true labels.\n",
    "\n",
    "from sklearn.metrics import mean_absolute_percentage_error, mean_absolute_error, r2_score, mean_squared_error\n",
    "# sklearn.metrics is a module that implements several loss, score, and utility functions to measure classification\n",
    "# performance, and we want to use the functions we import to calculate mean absolute percentage error(MAPE), mean \n",
    "# absolute error(MAE), R2 score, and mean squared error(MSE).\n",
    "\n",
    "from sklearn.model_selection import train_test_split\n",
    "# the train_test_split function of the sklearn.model_selection package splits array or matrices into random subsets\n",
    "# for train and test data.\n",
    "\n",
    "from sklearn.linear_model import LinearRegression\n",
    "# the LinearRegression contains different functions for performing machine learning with linear models."
   ]
  },
  {
   "cell_type": "code",
   "execution_count": 2,
   "id": "a4ae5c4f",
   "metadata": {},
   "outputs": [],
   "source": [
    "# Create a function for getting statistical values, it use dictionary to get the value of the of different measurements of \n",
    "# the data.\n",
    "def my_summary_stats(X,feature_list):\n",
    "    temp = pd.DataFrame(dict(mean = X[feature_list].mean().round(2),\n",
    "                             median = X[feature_list].median().round(2),\n",
    "                             std_dev = X[feature_list].std().round(2),\n",
    "                             min_val = X[feature_list].min().round(2),\n",
    "                             max_val = X[feature_list].max().round(2),\n",
    "                             outlier_issue = np.where(X[feature_list].std()/X[feature_list].mean() > 2,\n",
    "                                                      True,False)\n",
    "                            ))\n",
    "    return temp\n",
    "\n",
    "def target_by_cats(X):\n",
    "    '''\n",
    "    This function assumes the input dataframe (X) has a numerically defined target\n",
    "    variable in the first column and that all remaining features are categorical\n",
    "    '''\n",
    "    global_mean = X.iloc[:,0].mean()\n",
    "    target = X.columns[0]\n",
    "    for col in X.columns[1:]:\n",
    "        df_group = X.groupby(by=col)[target].agg(['mean']).round(2)\n",
    "        df_group['diff'] = (df_group['mean'] - global_mean).round(2)\n",
    "        display(df_group)"
   ]
  },
  {
   "cell_type": "code",
   "execution_count": 3,
   "id": "41437653",
   "metadata": {},
   "outputs": [],
   "source": [
    "# Create a function for training and testing data\n",
    "def train_test_metrics(X_train,X_test,y_train,y_test,model):\n",
    "    names=['R2','Adj-R2','MAE','MAPE','SSE'] \n",
    "    \n",
    "    # Training Metrics\n",
    "    y_hat = model.predict(X_train)\n",
    "    \n",
    "    # Create R2\n",
    "    r2 = r2_score(y_train,y_hat).round(3)\n",
    "    \n",
    "    # Create adj_R2\n",
    "    adj_r2 = (1-(1-r2_score(y_train,y_hat))*(len(y_train)-1)/(len(y_train)-len(model.coef_)-1)).round(3)\n",
    "\n",
    "    \n",
    "    train_metrics = [r2, adj_r2,\n",
    "                     mean_absolute_error(y_train,y_hat).round(3),\n",
    "                     mean_absolute_percentage_error(y_train,y_hat).round(3)*100,\n",
    "                     (mean_squared_error(y_train,y_hat)*len(y_train)).round(3)\n",
    "                    ]\n",
    "    train_metrics = pd.DataFrame({'Train':train_metrics},index=names)\n",
    "    \n",
    "    # Testing Metrics\n",
    "    y_hat = model.predict(X_test)\n",
    "    test_metrics = [r2_score(y_test,y_hat).round(3),\n",
    "                    (1-(1-r2_score(y_test,y_hat))*(len(y_test)-1)/(len(y_test)-len(model.coef_)-1)).round(3),\n",
    "                    mean_absolute_error(y_test,y_hat).round(3),\n",
    "                    mean_absolute_percentage_error(y_test,y_hat).round(3)*100,\n",
    "                    (mean_squared_error(y_test,y_hat)*len(y_test)).round(3)\n",
    "                   ]\n",
    "    test_metrics = pd.DataFrame({'Test':test_metrics},index=names)\n",
    "    \n",
    "    all_metrics = train_metrics.merge(test_metrics,left_index=True,right_index=True)\n",
    "    print(all_metrics)"
   ]
  },
  {
   "cell_type": "markdown",
   "id": "a1b49792",
   "metadata": {},
   "source": [
    "# 4.Data Preparation and Modeling<a class=\"anchor\" id=\"modeling\"></a>\n",
    "* [Go to Top](#table-of-content)"
   ]
  },
  {
   "cell_type": "code",
   "execution_count": 4,
   "id": "dc9ec17c",
   "metadata": {},
   "outputs": [
    {
     "name": "stdout",
     "output_type": "stream",
     "text": [
      "<class 'pandas.core.frame.DataFrame'>\n",
      "RangeIndex: 11914 entries, 0 to 11913\n",
      "Data columns (total 16 columns):\n",
      " #   Column             Non-Null Count  Dtype  \n",
      "---  ------             --------------  -----  \n",
      " 0   Make               11914 non-null  object \n",
      " 1   Model              11914 non-null  object \n",
      " 2   Year               11914 non-null  int64  \n",
      " 3   Engine Fuel Type   11911 non-null  object \n",
      " 4   Engine HP          11845 non-null  float64\n",
      " 5   Engine Cylinders   11884 non-null  float64\n",
      " 6   Transmission Type  11914 non-null  object \n",
      " 7   Driven_Wheels      11914 non-null  object \n",
      " 8   Number of Doors    11908 non-null  float64\n",
      " 9   Market Category    8172 non-null   object \n",
      " 10  Vehicle Size       11914 non-null  object \n",
      " 11  Vehicle Style      11914 non-null  object \n",
      " 12  highway MPG        11914 non-null  int64  \n",
      " 13  city mpg           11914 non-null  int64  \n",
      " 14  Popularity         11914 non-null  int64  \n",
      " 15  MSRP               11914 non-null  int64  \n",
      "dtypes: float64(3), int64(5), object(8)\n",
      "memory usage: 1.5+ MB\n"
     ]
    },
    {
     "data": {
      "text/html": [
       "<div>\n",
       "<style scoped>\n",
       "    .dataframe tbody tr th:only-of-type {\n",
       "        vertical-align: middle;\n",
       "    }\n",
       "\n",
       "    .dataframe tbody tr th {\n",
       "        vertical-align: top;\n",
       "    }\n",
       "\n",
       "    .dataframe thead th {\n",
       "        text-align: right;\n",
       "    }\n",
       "</style>\n",
       "<table border=\"1\" class=\"dataframe\">\n",
       "  <thead>\n",
       "    <tr style=\"text-align: right;\">\n",
       "      <th></th>\n",
       "      <th>Make</th>\n",
       "      <th>Model</th>\n",
       "      <th>Year</th>\n",
       "      <th>Engine Fuel Type</th>\n",
       "      <th>Engine HP</th>\n",
       "      <th>Engine Cylinders</th>\n",
       "      <th>Transmission Type</th>\n",
       "      <th>Driven_Wheels</th>\n",
       "      <th>Number of Doors</th>\n",
       "      <th>Market Category</th>\n",
       "      <th>Vehicle Size</th>\n",
       "      <th>Vehicle Style</th>\n",
       "      <th>highway MPG</th>\n",
       "      <th>city mpg</th>\n",
       "      <th>Popularity</th>\n",
       "      <th>MSRP</th>\n",
       "    </tr>\n",
       "  </thead>\n",
       "  <tbody>\n",
       "    <tr>\n",
       "      <th>11909</th>\n",
       "      <td>Acura</td>\n",
       "      <td>ZDX</td>\n",
       "      <td>2012</td>\n",
       "      <td>premium unleaded (required)</td>\n",
       "      <td>300.0</td>\n",
       "      <td>6.0</td>\n",
       "      <td>AUTOMATIC</td>\n",
       "      <td>all wheel drive</td>\n",
       "      <td>4.0</td>\n",
       "      <td>Crossover,Hatchback,Luxury</td>\n",
       "      <td>Midsize</td>\n",
       "      <td>4dr Hatchback</td>\n",
       "      <td>23</td>\n",
       "      <td>16</td>\n",
       "      <td>204</td>\n",
       "      <td>46120</td>\n",
       "    </tr>\n",
       "    <tr>\n",
       "      <th>11910</th>\n",
       "      <td>Acura</td>\n",
       "      <td>ZDX</td>\n",
       "      <td>2012</td>\n",
       "      <td>premium unleaded (required)</td>\n",
       "      <td>300.0</td>\n",
       "      <td>6.0</td>\n",
       "      <td>AUTOMATIC</td>\n",
       "      <td>all wheel drive</td>\n",
       "      <td>4.0</td>\n",
       "      <td>Crossover,Hatchback,Luxury</td>\n",
       "      <td>Midsize</td>\n",
       "      <td>4dr Hatchback</td>\n",
       "      <td>23</td>\n",
       "      <td>16</td>\n",
       "      <td>204</td>\n",
       "      <td>56670</td>\n",
       "    </tr>\n",
       "    <tr>\n",
       "      <th>11911</th>\n",
       "      <td>Acura</td>\n",
       "      <td>ZDX</td>\n",
       "      <td>2012</td>\n",
       "      <td>premium unleaded (required)</td>\n",
       "      <td>300.0</td>\n",
       "      <td>6.0</td>\n",
       "      <td>AUTOMATIC</td>\n",
       "      <td>all wheel drive</td>\n",
       "      <td>4.0</td>\n",
       "      <td>Crossover,Hatchback,Luxury</td>\n",
       "      <td>Midsize</td>\n",
       "      <td>4dr Hatchback</td>\n",
       "      <td>23</td>\n",
       "      <td>16</td>\n",
       "      <td>204</td>\n",
       "      <td>50620</td>\n",
       "    </tr>\n",
       "    <tr>\n",
       "      <th>11912</th>\n",
       "      <td>Acura</td>\n",
       "      <td>ZDX</td>\n",
       "      <td>2013</td>\n",
       "      <td>premium unleaded (recommended)</td>\n",
       "      <td>300.0</td>\n",
       "      <td>6.0</td>\n",
       "      <td>AUTOMATIC</td>\n",
       "      <td>all wheel drive</td>\n",
       "      <td>4.0</td>\n",
       "      <td>Crossover,Hatchback,Luxury</td>\n",
       "      <td>Midsize</td>\n",
       "      <td>4dr Hatchback</td>\n",
       "      <td>23</td>\n",
       "      <td>16</td>\n",
       "      <td>204</td>\n",
       "      <td>50920</td>\n",
       "    </tr>\n",
       "    <tr>\n",
       "      <th>11913</th>\n",
       "      <td>Lincoln</td>\n",
       "      <td>Zephyr</td>\n",
       "      <td>2006</td>\n",
       "      <td>regular unleaded</td>\n",
       "      <td>221.0</td>\n",
       "      <td>6.0</td>\n",
       "      <td>AUTOMATIC</td>\n",
       "      <td>front wheel drive</td>\n",
       "      <td>4.0</td>\n",
       "      <td>Luxury</td>\n",
       "      <td>Midsize</td>\n",
       "      <td>Sedan</td>\n",
       "      <td>26</td>\n",
       "      <td>17</td>\n",
       "      <td>61</td>\n",
       "      <td>28995</td>\n",
       "    </tr>\n",
       "  </tbody>\n",
       "</table>\n",
       "</div>"
      ],
      "text/plain": [
       "          Make   Model  Year                Engine Fuel Type  Engine HP  \\\n",
       "11909    Acura     ZDX  2012     premium unleaded (required)      300.0   \n",
       "11910    Acura     ZDX  2012     premium unleaded (required)      300.0   \n",
       "11911    Acura     ZDX  2012     premium unleaded (required)      300.0   \n",
       "11912    Acura     ZDX  2013  premium unleaded (recommended)      300.0   \n",
       "11913  Lincoln  Zephyr  2006                regular unleaded      221.0   \n",
       "\n",
       "       Engine Cylinders Transmission Type      Driven_Wheels  Number of Doors  \\\n",
       "11909               6.0         AUTOMATIC    all wheel drive              4.0   \n",
       "11910               6.0         AUTOMATIC    all wheel drive              4.0   \n",
       "11911               6.0         AUTOMATIC    all wheel drive              4.0   \n",
       "11912               6.0         AUTOMATIC    all wheel drive              4.0   \n",
       "11913               6.0         AUTOMATIC  front wheel drive              4.0   \n",
       "\n",
       "                  Market Category Vehicle Size  Vehicle Style  highway MPG  \\\n",
       "11909  Crossover,Hatchback,Luxury      Midsize  4dr Hatchback           23   \n",
       "11910  Crossover,Hatchback,Luxury      Midsize  4dr Hatchback           23   \n",
       "11911  Crossover,Hatchback,Luxury      Midsize  4dr Hatchback           23   \n",
       "11912  Crossover,Hatchback,Luxury      Midsize  4dr Hatchback           23   \n",
       "11913                      Luxury      Midsize          Sedan           26   \n",
       "\n",
       "       city mpg  Popularity   MSRP  \n",
       "11909        16         204  46120  \n",
       "11910        16         204  56670  \n",
       "11911        16         204  50620  \n",
       "11912        16         204  50920  \n",
       "11913        17          61  28995  "
      ]
     },
     "execution_count": 4,
     "metadata": {},
     "output_type": "execute_result"
    }
   ],
   "source": [
    "df = pd.read_csv('car_pricing_data.csv')\n",
    "# df means data frame, the read_csv() function is used to retrieve data from from csv file, and this function is \n",
    "# in the pandas package so there is a pd. in front of the function.\n",
    "\n",
    "df.info()\n",
    "# Look at the information of the data frame.\n",
    "\n",
    "df.tail()\n",
    "# Look at the last 5 records of the data frame."
   ]
  },
  {
   "cell_type": "markdown",
   "id": "e4a5b635",
   "metadata": {},
   "source": [
    ">**Initail evaluations and observations of the data**<br>\n",
    ">>**Records:** 11914 (since starting from 0 to 11913)<br>\n",
    ">>**Features in current data(total 16 features):** Make, Model, Year, Engine Fuel Type, Engine HP, Engine Cylinders, Transmission Type, Driven_Wheels, Number of Doors, Market Category, Vehicle Size, Vehicle Style, high MPG, city mpg, Popularity, MSRP<br>\n",
    ">>**Potential features that we can add in the future:** Car Accident, Car Damage, Previous Owners, Service History,\n",
    "Car Mileage <br>\n",
    ">>**Data Type:** Reasonable(the actual data type is same as we expected)<br>\n",
    ">>**Target Feature:** MSRP(Manufacturer Suggested Retail Price)\n",
    ">>- MSRP is the most obvious candidate for the target feature. Besides, popularity seems to be a potential candidate of the target feature since it represents how successful the car is, and the stakeholders or investors might want to take a look at it.<br>\n",
    "<br><br>\n",
    "\n",
    "| Feature           | Thoughts/Expectations(impact on MSRP)          | Actual Data Type | Expected Data Type |\n",
    "|------------------\t|----------------------------------------------\t |------------------|--------------------|\n",
    "| Make:    \t        | car brand(++)                 \t             | object           | object             |\n",
    "| Model:      \t    | car model(++)                     \t         | object           | object             |\n",
    "| Year:             | car launched year(neutral) \t                 | int64            | int                |\n",
    "| Engine Fuel Type: | type of fuel the car use(neutral)   \t         | object           | object             |    \n",
    "| Engine HP: \t    | engine horsepower(+)                        \t | float64          | float              |\n",
    "| Engine Cylinders: | number of cylinders in the engine(+)           | float64          | float              |\n",
    "| Transmission Type:| type of transmission the car has(+)         \t | object           | object             |\n",
    "| Driven_Wheels:    | the wheels that transmits force(+)           \t | object           | object             |\n",
    "| Number of Doors:  | car's door number(neutral)                     | float64          | float              |\n",
    "| Market Category:  | categorizing car type(++) \t                 | object           | object             |\n",
    "| Vehicle Size:     | size of the car(++)           \t             | object           | object             |\n",
    "| Vehicle Style:    | style of the car(+)           \t             | object           | object             |\n",
    "| highway MPG:    \t| mile per gallon on an open stretch conditons(+)| int64            | int                |\n",
    "| city mpg:         | mile per gallon on city conditions(+)          | int64            | int                |\n",
    "| Popularity:       | the popularity of the car(-)                   | int64            | int                |\n",
    "| MSRP:         \t| manufacturer suggested retailed price(target)  | int64            | int                |                     \t"
   ]
  },
  {
   "cell_type": "markdown",
   "id": "ffb1e731",
   "metadata": {},
   "source": [
    ">**Initail cleanup**<br>\n",
    ">>**Duplicates**<br>\n",
    ">>**Missing Values**"
   ]
  },
  {
   "cell_type": "code",
   "execution_count": 5,
   "id": "51cebbd7",
   "metadata": {
    "scrolled": true
   },
   "outputs": [
    {
     "name": "stdout",
     "output_type": "stream",
     "text": [
      "Number of records: 11914\n",
      "Number of records after dropping dupes: 11914\n"
     ]
    },
    {
     "data": {
      "text/plain": [
       "Make                    0\n",
       "Model                   0\n",
       "Year                    0\n",
       "Engine Fuel Type        3\n",
       "Engine HP              69\n",
       "Engine Cylinders       30\n",
       "Transmission Type       0\n",
       "Driven_Wheels           0\n",
       "Number of Doors         6\n",
       "Market Category      3742\n",
       "Vehicle Size            0\n",
       "Vehicle Style           0\n",
       "highway MPG             0\n",
       "city mpg                0\n",
       "Popularity              0\n",
       "MSRP                    0\n",
       "dtype: int64"
      ]
     },
     "execution_count": 5,
     "metadata": {},
     "output_type": "execute_result"
    }
   ],
   "source": [
    "# removing duplicates\n",
    "print('Number of records:', len(df))\n",
    "df.drop_duplicates()\n",
    "print('Number of records after dropping dupes:', len(df))\n",
    "\n",
    "# finding the total missing values for each column\n",
    "df.isnull().sum()"
   ]
  },
  {
   "cell_type": "markdown",
   "id": "fc821ad3",
   "metadata": {},
   "source": [
    ">**Initail cleanup summary**<br><br>\n",
    "*No duplicates in our data*<br><br>\n",
    "*Missing values for the following fields:*<br>\n",
    "-**Engine Fuel Type**: 3 - maybe replace with the fuel type based on Make feature and Model feature<br>\n",
    "-**Engine HP**: 69 - could reasonably replace with mean of Engine HP<br>\n",
    "-**Engine Cylinders**: 30 - could reasonably replace with mean of Engine Cylinders<br>\n",
    "-**Number of Doors**: 6 - could reasonably replace with mean of Number of Doors<br>\n",
    "-**Market Category**: 3742 - although it may have good correlation with MSRP, we drop it since there is too many misssing values<br>"
   ]
  },
  {
   "cell_type": "code",
   "execution_count": 6,
   "id": "07fcc3cb",
   "metadata": {
    "scrolled": false
   },
   "outputs": [
    {
     "data": {
      "text/html": [
       "<div>\n",
       "<style scoped>\n",
       "    .dataframe tbody tr th:only-of-type {\n",
       "        vertical-align: middle;\n",
       "    }\n",
       "\n",
       "    .dataframe tbody tr th {\n",
       "        vertical-align: top;\n",
       "    }\n",
       "\n",
       "    .dataframe thead th {\n",
       "        text-align: right;\n",
       "    }\n",
       "</style>\n",
       "<table border=\"1\" class=\"dataframe\">\n",
       "  <thead>\n",
       "    <tr style=\"text-align: right;\">\n",
       "      <th></th>\n",
       "      <th>Make</th>\n",
       "      <th>Model</th>\n",
       "      <th>Year</th>\n",
       "      <th>Engine Fuel Type</th>\n",
       "      <th>Engine HP</th>\n",
       "      <th>Engine Cylinders</th>\n",
       "      <th>Transmission Type</th>\n",
       "      <th>Driven_Wheels</th>\n",
       "      <th>Number of Doors</th>\n",
       "      <th>Market Category</th>\n",
       "      <th>Vehicle Size</th>\n",
       "      <th>Vehicle Style</th>\n",
       "      <th>highway MPG</th>\n",
       "      <th>city mpg</th>\n",
       "      <th>Popularity</th>\n",
       "      <th>MSRP</th>\n",
       "    </tr>\n",
       "  </thead>\n",
       "  <tbody>\n",
       "    <tr>\n",
       "      <th>11321</th>\n",
       "      <td>Suzuki</td>\n",
       "      <td>Verona</td>\n",
       "      <td>2004</td>\n",
       "      <td>NaN</td>\n",
       "      <td>155.0</td>\n",
       "      <td>6.0</td>\n",
       "      <td>AUTOMATIC</td>\n",
       "      <td>front wheel drive</td>\n",
       "      <td>4.0</td>\n",
       "      <td>NaN</td>\n",
       "      <td>Midsize</td>\n",
       "      <td>Sedan</td>\n",
       "      <td>25</td>\n",
       "      <td>17</td>\n",
       "      <td>481</td>\n",
       "      <td>17199</td>\n",
       "    </tr>\n",
       "    <tr>\n",
       "      <th>11322</th>\n",
       "      <td>Suzuki</td>\n",
       "      <td>Verona</td>\n",
       "      <td>2004</td>\n",
       "      <td>NaN</td>\n",
       "      <td>155.0</td>\n",
       "      <td>6.0</td>\n",
       "      <td>AUTOMATIC</td>\n",
       "      <td>front wheel drive</td>\n",
       "      <td>4.0</td>\n",
       "      <td>NaN</td>\n",
       "      <td>Midsize</td>\n",
       "      <td>Sedan</td>\n",
       "      <td>25</td>\n",
       "      <td>17</td>\n",
       "      <td>481</td>\n",
       "      <td>20199</td>\n",
       "    </tr>\n",
       "    <tr>\n",
       "      <th>11323</th>\n",
       "      <td>Suzuki</td>\n",
       "      <td>Verona</td>\n",
       "      <td>2004</td>\n",
       "      <td>NaN</td>\n",
       "      <td>155.0</td>\n",
       "      <td>6.0</td>\n",
       "      <td>AUTOMATIC</td>\n",
       "      <td>front wheel drive</td>\n",
       "      <td>4.0</td>\n",
       "      <td>NaN</td>\n",
       "      <td>Midsize</td>\n",
       "      <td>Sedan</td>\n",
       "      <td>25</td>\n",
       "      <td>17</td>\n",
       "      <td>481</td>\n",
       "      <td>18499</td>\n",
       "    </tr>\n",
       "  </tbody>\n",
       "</table>\n",
       "</div>"
      ],
      "text/plain": [
       "         Make   Model  Year Engine Fuel Type  Engine HP  Engine Cylinders  \\\n",
       "11321  Suzuki  Verona  2004              NaN      155.0               6.0   \n",
       "11322  Suzuki  Verona  2004              NaN      155.0               6.0   \n",
       "11323  Suzuki  Verona  2004              NaN      155.0               6.0   \n",
       "\n",
       "      Transmission Type      Driven_Wheels  Number of Doors Market Category  \\\n",
       "11321         AUTOMATIC  front wheel drive              4.0             NaN   \n",
       "11322         AUTOMATIC  front wheel drive              4.0             NaN   \n",
       "11323         AUTOMATIC  front wheel drive              4.0             NaN   \n",
       "\n",
       "      Vehicle Size Vehicle Style  highway MPG  city mpg  Popularity   MSRP  \n",
       "11321      Midsize         Sedan           25        17         481  17199  \n",
       "11322      Midsize         Sedan           25        17         481  20199  \n",
       "11323      Midsize         Sedan           25        17         481  18499  "
      ]
     },
     "execution_count": 6,
     "metadata": {},
     "output_type": "execute_result"
    }
   ],
   "source": [
    "# find the rows that have missing values of Engine Fuel Type\n",
    "missing_engine_fuel_type = df[df['Engine Fuel Type'].isnull()]\n",
    "missing_engine_fuel_type"
   ]
  },
  {
   "cell_type": "code",
   "execution_count": 7,
   "id": "0d60bbed",
   "metadata": {
    "scrolled": true
   },
   "outputs": [
    {
     "data": {
      "text/html": [
       "<div>\n",
       "<style scoped>\n",
       "    .dataframe tbody tr th:only-of-type {\n",
       "        vertical-align: middle;\n",
       "    }\n",
       "\n",
       "    .dataframe tbody tr th {\n",
       "        vertical-align: top;\n",
       "    }\n",
       "\n",
       "    .dataframe thead th {\n",
       "        text-align: right;\n",
       "    }\n",
       "</style>\n",
       "<table border=\"1\" class=\"dataframe\">\n",
       "  <thead>\n",
       "    <tr style=\"text-align: right;\">\n",
       "      <th></th>\n",
       "      <th>Make</th>\n",
       "      <th>Model</th>\n",
       "      <th>Year</th>\n",
       "      <th>Engine Fuel Type</th>\n",
       "      <th>Engine HP</th>\n",
       "      <th>Engine Cylinders</th>\n",
       "      <th>Transmission Type</th>\n",
       "      <th>Driven_Wheels</th>\n",
       "      <th>Number of Doors</th>\n",
       "      <th>Market Category</th>\n",
       "      <th>Vehicle Size</th>\n",
       "      <th>Vehicle Style</th>\n",
       "      <th>highway MPG</th>\n",
       "      <th>city mpg</th>\n",
       "      <th>Popularity</th>\n",
       "      <th>MSRP</th>\n",
       "    </tr>\n",
       "  </thead>\n",
       "  <tbody>\n",
       "    <tr>\n",
       "      <th>11321</th>\n",
       "      <td>Suzuki</td>\n",
       "      <td>Verona</td>\n",
       "      <td>2004</td>\n",
       "      <td>NaN</td>\n",
       "      <td>155.0</td>\n",
       "      <td>6.0</td>\n",
       "      <td>AUTOMATIC</td>\n",
       "      <td>front wheel drive</td>\n",
       "      <td>4.0</td>\n",
       "      <td>NaN</td>\n",
       "      <td>Midsize</td>\n",
       "      <td>Sedan</td>\n",
       "      <td>25</td>\n",
       "      <td>17</td>\n",
       "      <td>481</td>\n",
       "      <td>17199</td>\n",
       "    </tr>\n",
       "    <tr>\n",
       "      <th>11322</th>\n",
       "      <td>Suzuki</td>\n",
       "      <td>Verona</td>\n",
       "      <td>2004</td>\n",
       "      <td>NaN</td>\n",
       "      <td>155.0</td>\n",
       "      <td>6.0</td>\n",
       "      <td>AUTOMATIC</td>\n",
       "      <td>front wheel drive</td>\n",
       "      <td>4.0</td>\n",
       "      <td>NaN</td>\n",
       "      <td>Midsize</td>\n",
       "      <td>Sedan</td>\n",
       "      <td>25</td>\n",
       "      <td>17</td>\n",
       "      <td>481</td>\n",
       "      <td>20199</td>\n",
       "    </tr>\n",
       "    <tr>\n",
       "      <th>11323</th>\n",
       "      <td>Suzuki</td>\n",
       "      <td>Verona</td>\n",
       "      <td>2004</td>\n",
       "      <td>NaN</td>\n",
       "      <td>155.0</td>\n",
       "      <td>6.0</td>\n",
       "      <td>AUTOMATIC</td>\n",
       "      <td>front wheel drive</td>\n",
       "      <td>4.0</td>\n",
       "      <td>NaN</td>\n",
       "      <td>Midsize</td>\n",
       "      <td>Sedan</td>\n",
       "      <td>25</td>\n",
       "      <td>17</td>\n",
       "      <td>481</td>\n",
       "      <td>18499</td>\n",
       "    </tr>\n",
       "    <tr>\n",
       "      <th>11324</th>\n",
       "      <td>Suzuki</td>\n",
       "      <td>Verona</td>\n",
       "      <td>2005</td>\n",
       "      <td>regular unleaded</td>\n",
       "      <td>155.0</td>\n",
       "      <td>6.0</td>\n",
       "      <td>AUTOMATIC</td>\n",
       "      <td>front wheel drive</td>\n",
       "      <td>4.0</td>\n",
       "      <td>NaN</td>\n",
       "      <td>Midsize</td>\n",
       "      <td>Sedan</td>\n",
       "      <td>25</td>\n",
       "      <td>18</td>\n",
       "      <td>481</td>\n",
       "      <td>19349</td>\n",
       "    </tr>\n",
       "    <tr>\n",
       "      <th>11325</th>\n",
       "      <td>Suzuki</td>\n",
       "      <td>Verona</td>\n",
       "      <td>2005</td>\n",
       "      <td>regular unleaded</td>\n",
       "      <td>155.0</td>\n",
       "      <td>6.0</td>\n",
       "      <td>AUTOMATIC</td>\n",
       "      <td>front wheel drive</td>\n",
       "      <td>4.0</td>\n",
       "      <td>NaN</td>\n",
       "      <td>Midsize</td>\n",
       "      <td>Sedan</td>\n",
       "      <td>25</td>\n",
       "      <td>18</td>\n",
       "      <td>481</td>\n",
       "      <td>21049</td>\n",
       "    </tr>\n",
       "    <tr>\n",
       "      <th>11326</th>\n",
       "      <td>Suzuki</td>\n",
       "      <td>Verona</td>\n",
       "      <td>2005</td>\n",
       "      <td>regular unleaded</td>\n",
       "      <td>155.0</td>\n",
       "      <td>6.0</td>\n",
       "      <td>AUTOMATIC</td>\n",
       "      <td>front wheel drive</td>\n",
       "      <td>4.0</td>\n",
       "      <td>NaN</td>\n",
       "      <td>Midsize</td>\n",
       "      <td>Sedan</td>\n",
       "      <td>25</td>\n",
       "      <td>18</td>\n",
       "      <td>481</td>\n",
       "      <td>17549</td>\n",
       "    </tr>\n",
       "    <tr>\n",
       "      <th>11327</th>\n",
       "      <td>Suzuki</td>\n",
       "      <td>Verona</td>\n",
       "      <td>2005</td>\n",
       "      <td>regular unleaded</td>\n",
       "      <td>155.0</td>\n",
       "      <td>6.0</td>\n",
       "      <td>AUTOMATIC</td>\n",
       "      <td>front wheel drive</td>\n",
       "      <td>4.0</td>\n",
       "      <td>NaN</td>\n",
       "      <td>Midsize</td>\n",
       "      <td>Sedan</td>\n",
       "      <td>25</td>\n",
       "      <td>18</td>\n",
       "      <td>481</td>\n",
       "      <td>20549</td>\n",
       "    </tr>\n",
       "    <tr>\n",
       "      <th>11328</th>\n",
       "      <td>Suzuki</td>\n",
       "      <td>Verona</td>\n",
       "      <td>2006</td>\n",
       "      <td>regular unleaded</td>\n",
       "      <td>155.0</td>\n",
       "      <td>6.0</td>\n",
       "      <td>AUTOMATIC</td>\n",
       "      <td>front wheel drive</td>\n",
       "      <td>4.0</td>\n",
       "      <td>NaN</td>\n",
       "      <td>Midsize</td>\n",
       "      <td>Sedan</td>\n",
       "      <td>25</td>\n",
       "      <td>17</td>\n",
       "      <td>481</td>\n",
       "      <td>20299</td>\n",
       "    </tr>\n",
       "    <tr>\n",
       "      <th>11329</th>\n",
       "      <td>Suzuki</td>\n",
       "      <td>Verona</td>\n",
       "      <td>2006</td>\n",
       "      <td>regular unleaded</td>\n",
       "      <td>155.0</td>\n",
       "      <td>6.0</td>\n",
       "      <td>AUTOMATIC</td>\n",
       "      <td>front wheel drive</td>\n",
       "      <td>4.0</td>\n",
       "      <td>NaN</td>\n",
       "      <td>Midsize</td>\n",
       "      <td>Sedan</td>\n",
       "      <td>25</td>\n",
       "      <td>17</td>\n",
       "      <td>481</td>\n",
       "      <td>18299</td>\n",
       "    </tr>\n",
       "  </tbody>\n",
       "</table>\n",
       "</div>"
      ],
      "text/plain": [
       "         Make   Model  Year  Engine Fuel Type  Engine HP  Engine Cylinders  \\\n",
       "11321  Suzuki  Verona  2004               NaN      155.0               6.0   \n",
       "11322  Suzuki  Verona  2004               NaN      155.0               6.0   \n",
       "11323  Suzuki  Verona  2004               NaN      155.0               6.0   \n",
       "11324  Suzuki  Verona  2005  regular unleaded      155.0               6.0   \n",
       "11325  Suzuki  Verona  2005  regular unleaded      155.0               6.0   \n",
       "11326  Suzuki  Verona  2005  regular unleaded      155.0               6.0   \n",
       "11327  Suzuki  Verona  2005  regular unleaded      155.0               6.0   \n",
       "11328  Suzuki  Verona  2006  regular unleaded      155.0               6.0   \n",
       "11329  Suzuki  Verona  2006  regular unleaded      155.0               6.0   \n",
       "\n",
       "      Transmission Type      Driven_Wheels  Number of Doors Market Category  \\\n",
       "11321         AUTOMATIC  front wheel drive              4.0             NaN   \n",
       "11322         AUTOMATIC  front wheel drive              4.0             NaN   \n",
       "11323         AUTOMATIC  front wheel drive              4.0             NaN   \n",
       "11324         AUTOMATIC  front wheel drive              4.0             NaN   \n",
       "11325         AUTOMATIC  front wheel drive              4.0             NaN   \n",
       "11326         AUTOMATIC  front wheel drive              4.0             NaN   \n",
       "11327         AUTOMATIC  front wheel drive              4.0             NaN   \n",
       "11328         AUTOMATIC  front wheel drive              4.0             NaN   \n",
       "11329         AUTOMATIC  front wheel drive              4.0             NaN   \n",
       "\n",
       "      Vehicle Size Vehicle Style  highway MPG  city mpg  Popularity   MSRP  \n",
       "11321      Midsize         Sedan           25        17         481  17199  \n",
       "11322      Midsize         Sedan           25        17         481  20199  \n",
       "11323      Midsize         Sedan           25        17         481  18499  \n",
       "11324      Midsize         Sedan           25        18         481  19349  \n",
       "11325      Midsize         Sedan           25        18         481  21049  \n",
       "11326      Midsize         Sedan           25        18         481  17549  \n",
       "11327      Midsize         Sedan           25        18         481  20549  \n",
       "11328      Midsize         Sedan           25        17         481  20299  \n",
       "11329      Midsize         Sedan           25        17         481  18299  "
      ]
     },
     "execution_count": 7,
     "metadata": {},
     "output_type": "execute_result"
    }
   ],
   "source": [
    "# find the Engine fuel type of Make equals Suzuki and Model equals Verona\n",
    "suzuki_engine_fuel_type = df.loc[(df['Make'] == 'Suzuki') & (df['Model'] == 'Verona')]\n",
    "suzuki_engine_fuel_type"
   ]
  },
  {
   "cell_type": "code",
   "execution_count": 8,
   "id": "2871686a",
   "metadata": {
    "scrolled": true
   },
   "outputs": [
    {
     "data": {
      "text/html": [
       "<div>\n",
       "<style scoped>\n",
       "    .dataframe tbody tr th:only-of-type {\n",
       "        vertical-align: middle;\n",
       "    }\n",
       "\n",
       "    .dataframe tbody tr th {\n",
       "        vertical-align: top;\n",
       "    }\n",
       "\n",
       "    .dataframe thead th {\n",
       "        text-align: right;\n",
       "    }\n",
       "</style>\n",
       "<table border=\"1\" class=\"dataframe\">\n",
       "  <thead>\n",
       "    <tr style=\"text-align: right;\">\n",
       "      <th></th>\n",
       "      <th>count</th>\n",
       "      <th>mean</th>\n",
       "      <th>std</th>\n",
       "      <th>min</th>\n",
       "      <th>25%</th>\n",
       "      <th>50%</th>\n",
       "      <th>75%</th>\n",
       "      <th>max</th>\n",
       "    </tr>\n",
       "  </thead>\n",
       "  <tbody>\n",
       "    <tr>\n",
       "      <th>Year</th>\n",
       "      <td>11914.0</td>\n",
       "      <td>2010.384338</td>\n",
       "      <td>7.579740</td>\n",
       "      <td>1990.0</td>\n",
       "      <td>2007.0</td>\n",
       "      <td>2015.0</td>\n",
       "      <td>2016.00</td>\n",
       "      <td>2017.0</td>\n",
       "    </tr>\n",
       "    <tr>\n",
       "      <th>Engine HP</th>\n",
       "      <td>11845.0</td>\n",
       "      <td>249.386070</td>\n",
       "      <td>109.191870</td>\n",
       "      <td>55.0</td>\n",
       "      <td>170.0</td>\n",
       "      <td>227.0</td>\n",
       "      <td>300.00</td>\n",
       "      <td>1001.0</td>\n",
       "    </tr>\n",
       "    <tr>\n",
       "      <th>Engine Cylinders</th>\n",
       "      <td>11884.0</td>\n",
       "      <td>5.628829</td>\n",
       "      <td>1.780559</td>\n",
       "      <td>0.0</td>\n",
       "      <td>4.0</td>\n",
       "      <td>6.0</td>\n",
       "      <td>6.00</td>\n",
       "      <td>16.0</td>\n",
       "    </tr>\n",
       "    <tr>\n",
       "      <th>Number of Doors</th>\n",
       "      <td>11908.0</td>\n",
       "      <td>3.436093</td>\n",
       "      <td>0.881315</td>\n",
       "      <td>2.0</td>\n",
       "      <td>2.0</td>\n",
       "      <td>4.0</td>\n",
       "      <td>4.00</td>\n",
       "      <td>4.0</td>\n",
       "    </tr>\n",
       "    <tr>\n",
       "      <th>highway MPG</th>\n",
       "      <td>11914.0</td>\n",
       "      <td>26.637485</td>\n",
       "      <td>8.863001</td>\n",
       "      <td>12.0</td>\n",
       "      <td>22.0</td>\n",
       "      <td>26.0</td>\n",
       "      <td>30.00</td>\n",
       "      <td>354.0</td>\n",
       "    </tr>\n",
       "    <tr>\n",
       "      <th>city mpg</th>\n",
       "      <td>11914.0</td>\n",
       "      <td>19.733255</td>\n",
       "      <td>8.987798</td>\n",
       "      <td>7.0</td>\n",
       "      <td>16.0</td>\n",
       "      <td>18.0</td>\n",
       "      <td>22.00</td>\n",
       "      <td>137.0</td>\n",
       "    </tr>\n",
       "    <tr>\n",
       "      <th>Popularity</th>\n",
       "      <td>11914.0</td>\n",
       "      <td>1554.911197</td>\n",
       "      <td>1441.855347</td>\n",
       "      <td>2.0</td>\n",
       "      <td>549.0</td>\n",
       "      <td>1385.0</td>\n",
       "      <td>2009.00</td>\n",
       "      <td>5657.0</td>\n",
       "    </tr>\n",
       "    <tr>\n",
       "      <th>MSRP</th>\n",
       "      <td>11914.0</td>\n",
       "      <td>40594.737032</td>\n",
       "      <td>60109.103604</td>\n",
       "      <td>2000.0</td>\n",
       "      <td>21000.0</td>\n",
       "      <td>29995.0</td>\n",
       "      <td>42231.25</td>\n",
       "      <td>2065902.0</td>\n",
       "    </tr>\n",
       "  </tbody>\n",
       "</table>\n",
       "</div>"
      ],
      "text/plain": [
       "                    count          mean           std     min      25%  \\\n",
       "Year              11914.0   2010.384338      7.579740  1990.0   2007.0   \n",
       "Engine HP         11845.0    249.386070    109.191870    55.0    170.0   \n",
       "Engine Cylinders  11884.0      5.628829      1.780559     0.0      4.0   \n",
       "Number of Doors   11908.0      3.436093      0.881315     2.0      2.0   \n",
       "highway MPG       11914.0     26.637485      8.863001    12.0     22.0   \n",
       "city mpg          11914.0     19.733255      8.987798     7.0     16.0   \n",
       "Popularity        11914.0   1554.911197   1441.855347     2.0    549.0   \n",
       "MSRP              11914.0  40594.737032  60109.103604  2000.0  21000.0   \n",
       "\n",
       "                      50%       75%        max  \n",
       "Year               2015.0   2016.00     2017.0  \n",
       "Engine HP           227.0    300.00     1001.0  \n",
       "Engine Cylinders      6.0      6.00       16.0  \n",
       "Number of Doors       4.0      4.00        4.0  \n",
       "highway MPG          26.0     30.00      354.0  \n",
       "city mpg             18.0     22.00      137.0  \n",
       "Popularity         1385.0   2009.00     5657.0  \n",
       "MSRP              29995.0  42231.25  2065902.0  "
      ]
     },
     "execution_count": 8,
     "metadata": {},
     "output_type": "execute_result"
    }
   ],
   "source": [
    "# Identify all the numeric columns in the data frame and then show some statistics, we transpose the data frame by\n",
    "# adding .T at the end\n",
    "df.describe().T"
   ]
  },
  {
   "cell_type": "markdown",
   "id": "b9c75935",
   "metadata": {},
   "source": [
    ">**Filling missing values**<br><br>\n",
    "-**Engine Fuel Type**: regular unleaded - the engine fuel type of Suzuki with Verona model is usually regular unleaded<br>\n",
    "-**Engine HP**: 249.39 - round the mean of Engine HP to 2 decimal places<br>\n",
    "-**Engine Cylinders**: 5.63 - round the mean of Engine Cylinders to 2 decimal places<br>\n",
    "-**Number of Doors**: 3.44 - round the mean of Number of Doors to 2 decimal places<br>\n",
    "-**Market Category**: decide to drop the whole column"
   ]
  },
  {
   "cell_type": "code",
   "execution_count": 9,
   "id": "98ca6c48",
   "metadata": {
    "scrolled": false
   },
   "outputs": [
    {
     "data": {
      "text/plain": [
       "Make                 0\n",
       "Model                0\n",
       "Year                 0\n",
       "Engine Fuel Type     0\n",
       "Engine HP            0\n",
       "Engine Cylinders     0\n",
       "Transmission Type    0\n",
       "Driven_Wheels        0\n",
       "Number of Doors      0\n",
       "Vehicle Size         0\n",
       "Vehicle Style        0\n",
       "highway MPG          0\n",
       "city mpg             0\n",
       "Popularity           0\n",
       "MSRP                 0\n",
       "dtype: int64"
      ]
     },
     "execution_count": 9,
     "metadata": {},
     "output_type": "execute_result"
    }
   ],
   "source": [
    "# Fill the NaN value in Enigine Fuel Type with 'regular unleaded'\n",
    "df['Engine Fuel Type'] = df['Engine Fuel Type'].fillna('regular unleaded')\n",
    "#suzuki_engine_fuel_type = df.loc[(df['Make'] == 'Suzuki') & (df['Model'] == 'Verona')]\n",
    "#suzuki_engine_fuel_type\n",
    "\n",
    "# Fill the NaN value in Engine HP with 249.39\n",
    "df['Engine HP'] = df['Engine HP'].fillna(249.39)\n",
    "#engine_hp = df.loc[df['Engine HP'].isnull()]\n",
    "#engine_hp\n",
    "\n",
    "# Fill the NaN value in Engine Cylinders with 5.63\n",
    "df['Engine Cylinders'] = df['Engine Cylinders'].fillna(5.63)\n",
    "#engine_cylinder = df.loc[df['Engine Cylinders'].isnull()]\n",
    "#engine_cylinder\n",
    "\n",
    "# Fill the NaN value in Number of Doors with 3.44\n",
    "df['Number of Doors'] = df['Number of Doors'].fillna(3.44)\n",
    "#number_of_doors = df.loc[df['Number of Doors'].isnull()]\n",
    "#number_of_doors\n",
    "\n",
    "# Drop the whole column of Market Category\n",
    "df = df.drop('Market Category',axis=1)\n",
    "\n",
    "# Checking if there is any missing values left\n",
    "df.isnull().sum()"
   ]
  },
  {
   "cell_type": "markdown",
   "id": "9d85e869",
   "metadata": {},
   "source": [
    ">**Outlier Detection & Treatment**"
   ]
  },
  {
   "cell_type": "code",
   "execution_count": 10,
   "id": "2ffbefaf",
   "metadata": {
    "scrolled": false
   },
   "outputs": [
    {
     "data": {
      "text/html": [
       "<div>\n",
       "<style scoped>\n",
       "    .dataframe tbody tr th:only-of-type {\n",
       "        vertical-align: middle;\n",
       "    }\n",
       "\n",
       "    .dataframe tbody tr th {\n",
       "        vertical-align: top;\n",
       "    }\n",
       "\n",
       "    .dataframe thead th {\n",
       "        text-align: right;\n",
       "    }\n",
       "</style>\n",
       "<table border=\"1\" class=\"dataframe\">\n",
       "  <thead>\n",
       "    <tr style=\"text-align: right;\">\n",
       "      <th></th>\n",
       "      <th>mean</th>\n",
       "      <th>median</th>\n",
       "      <th>std_dev</th>\n",
       "      <th>min_val</th>\n",
       "      <th>max_val</th>\n",
       "      <th>outlier_issue</th>\n",
       "    </tr>\n",
       "  </thead>\n",
       "  <tbody>\n",
       "    <tr>\n",
       "      <th>Year</th>\n",
       "      <td>2010.38</td>\n",
       "      <td>2015.0</td>\n",
       "      <td>7.58</td>\n",
       "      <td>1990.0</td>\n",
       "      <td>2017.0</td>\n",
       "      <td>False</td>\n",
       "    </tr>\n",
       "    <tr>\n",
       "      <th>Engine HP</th>\n",
       "      <td>249.39</td>\n",
       "      <td>227.0</td>\n",
       "      <td>108.88</td>\n",
       "      <td>55.0</td>\n",
       "      <td>1001.0</td>\n",
       "      <td>False</td>\n",
       "    </tr>\n",
       "    <tr>\n",
       "      <th>Engine Cylinders</th>\n",
       "      <td>5.63</td>\n",
       "      <td>6.0</td>\n",
       "      <td>1.78</td>\n",
       "      <td>0.0</td>\n",
       "      <td>16.0</td>\n",
       "      <td>False</td>\n",
       "    </tr>\n",
       "    <tr>\n",
       "      <th>Number of Doors</th>\n",
       "      <td>3.44</td>\n",
       "      <td>4.0</td>\n",
       "      <td>0.88</td>\n",
       "      <td>2.0</td>\n",
       "      <td>4.0</td>\n",
       "      <td>False</td>\n",
       "    </tr>\n",
       "    <tr>\n",
       "      <th>highway MPG</th>\n",
       "      <td>26.64</td>\n",
       "      <td>26.0</td>\n",
       "      <td>8.86</td>\n",
       "      <td>12.0</td>\n",
       "      <td>354.0</td>\n",
       "      <td>False</td>\n",
       "    </tr>\n",
       "    <tr>\n",
       "      <th>city mpg</th>\n",
       "      <td>19.73</td>\n",
       "      <td>18.0</td>\n",
       "      <td>8.99</td>\n",
       "      <td>7.0</td>\n",
       "      <td>137.0</td>\n",
       "      <td>False</td>\n",
       "    </tr>\n",
       "    <tr>\n",
       "      <th>Popularity</th>\n",
       "      <td>1554.91</td>\n",
       "      <td>1385.0</td>\n",
       "      <td>1441.86</td>\n",
       "      <td>2.0</td>\n",
       "      <td>5657.0</td>\n",
       "      <td>False</td>\n",
       "    </tr>\n",
       "    <tr>\n",
       "      <th>MSRP</th>\n",
       "      <td>40594.74</td>\n",
       "      <td>29995.0</td>\n",
       "      <td>60109.10</td>\n",
       "      <td>2000.0</td>\n",
       "      <td>2065902.0</td>\n",
       "      <td>False</td>\n",
       "    </tr>\n",
       "  </tbody>\n",
       "</table>\n",
       "</div>"
      ],
      "text/plain": [
       "                      mean   median   std_dev  min_val    max_val  \\\n",
       "Year               2010.38   2015.0      7.58   1990.0     2017.0   \n",
       "Engine HP           249.39    227.0    108.88     55.0     1001.0   \n",
       "Engine Cylinders      5.63      6.0      1.78      0.0       16.0   \n",
       "Number of Doors       3.44      4.0      0.88      2.0        4.0   \n",
       "highway MPG          26.64     26.0      8.86     12.0      354.0   \n",
       "city mpg             19.73     18.0      8.99      7.0      137.0   \n",
       "Popularity         1554.91   1385.0   1441.86      2.0     5657.0   \n",
       "MSRP              40594.74  29995.0  60109.10   2000.0  2065902.0   \n",
       "\n",
       "                  outlier_issue  \n",
       "Year                      False  \n",
       "Engine HP                 False  \n",
       "Engine Cylinders          False  \n",
       "Number of Doors           False  \n",
       "highway MPG               False  \n",
       "city mpg                  False  \n",
       "Popularity                False  \n",
       "MSRP                      False  "
      ]
     },
     "execution_count": 10,
     "metadata": {},
     "output_type": "execute_result"
    }
   ],
   "source": [
    "# Create a dataframe that only contains numerical variables and use the funtion 'my_summary_stats' to gain an insight\n",
    "# of the statistical value of the variables.\n",
    "numerical_vars = ['Year', 'Engine HP', 'Engine Cylinders', 'Number of Doors', 'highway MPG', 'city mpg', 'Popularity', 'MSRP']\n",
    "my_summary_stats(df,numerical_vars)"
   ]
  },
  {
   "cell_type": "markdown",
   "id": "32958cb3",
   "metadata": {},
   "source": [
    "> **Initial evaluations and observations of numerical features:**<br><br>\n",
    "There seems to be some ouliers in the following features(comparing max_val and min_val with mean)<br>\n",
    ">- Engine HP\n",
    ">- highway MPG\n",
    ">- city mpg\n",
    ">- Popularity\n",
    "\n",
    ">We are not going to deal with the outliers of MSRP since it is our target feature"
   ]
  },
  {
   "cell_type": "code",
   "execution_count": 11,
   "id": "3811b145",
   "metadata": {
    "scrolled": true
   },
   "outputs": [
    {
     "data": {
      "text/plain": [
       "<seaborn.axisgrid.FacetGrid at 0x7fe3db1ecd90>"
      ]
     },
     "execution_count": 11,
     "metadata": {},
     "output_type": "execute_result"
    },
    {
     "data": {
      "image/png": "[encoded data removed]",
      "text/plain": [
       "<Figure size 360x360 with 1 Axes>"
      ]
     },
     "metadata": {
      "needs_background": "light"
     },
     "output_type": "display_data"
    }
   ],
   "source": [
    "# Displot the overall distribution of Year\n",
    "sns.displot(df['Year'])"
   ]
  },
  {
   "cell_type": "code",
   "execution_count": 12,
   "id": "b5ae99b1",
   "metadata": {
    "scrolled": false
   },
   "outputs": [
    {
     "data": {
      "text/plain": [
       "<seaborn.axisgrid.FacetGrid at 0x7fe3db5fa130>"
      ]
     },
     "execution_count": 12,
     "metadata": {},
     "output_type": "execute_result"
    },
    {
     "data": {
      "image/png": "[encoded data removed]",
      "text/plain": [
       "<Figure size 360x360 with 1 Axes>"
      ]
     },
     "metadata": {
      "needs_background": "light"
     },
     "output_type": "display_data"
    }
   ],
   "source": [
    "# Displot the overall distribution of Engine HP \n",
    "sns.displot(df['Engine HP'])"
   ]
  },
  {
   "cell_type": "code",
   "execution_count": 13,
   "id": "542e2df8",
   "metadata": {
    "scrolled": false
   },
   "outputs": [
    {
     "data": {
      "text/plain": [
       "<seaborn.axisgrid.FacetGrid at 0x7fe3db593370>"
      ]
     },
     "execution_count": 13,
     "metadata": {},
     "output_type": "execute_result"
    },
    {
     "data": {
      "image/png": "[encoded data removed]",
      "text/plain": [
       "<Figure size 360x360 with 1 Axes>"
      ]
     },
     "metadata": {
      "needs_background": "light"
     },
     "output_type": "display_data"
    }
   ],
   "source": [
    "# Displot the overall distribution of Engine Cylinders\n",
    "sns.displot(df['Engine Cylinders'])"
   ]
  },
  {
   "cell_type": "code",
   "execution_count": 14,
   "id": "b2c37e50",
   "metadata": {
    "scrolled": true
   },
   "outputs": [
    {
     "data": {
      "text/plain": [
       "<seaborn.axisgrid.FacetGrid at 0x7fe3e9610760>"
      ]
     },
     "execution_count": 14,
     "metadata": {},
     "output_type": "execute_result"
    },
    {
     "data": {
      "image/png": "[encoded data removed]",
      "text/plain": [
       "<Figure size 360x360 with 1 Axes>"
      ]
     },
     "metadata": {
      "needs_background": "light"
     },
     "output_type": "display_data"
    }
   ],
   "source": [
    "# Displot the overall distribution of Number of Doors\n",
    "sns.displot(df['Number of Doors'])"
   ]
  },
  {
   "cell_type": "code",
   "execution_count": 15,
   "id": "fcc6c061",
   "metadata": {},
   "outputs": [
    {
     "data": {
      "text/plain": [
       "<seaborn.axisgrid.FacetGrid at 0x7fe3d0eee580>"
      ]
     },
     "execution_count": 15,
     "metadata": {},
     "output_type": "execute_result"
    },
    {
     "data": {
      "image/png": "[encoded data removed]",
      "text/plain": [
       "<Figure size 360x360 with 1 Axes>"
      ]
     },
     "metadata": {
      "needs_background": "light"
     },
     "output_type": "display_data"
    }
   ],
   "source": [
    "# Displot the overall distribution of highway mpg\n",
    "sns.displot(df['highway MPG'])"
   ]
  },
  {
   "cell_type": "code",
   "execution_count": 16,
   "id": "d94148e5",
   "metadata": {},
   "outputs": [
    {
     "data": {
      "text/plain": [
       "<seaborn.axisgrid.FacetGrid at 0x7fe3db766a30>"
      ]
     },
     "execution_count": 16,
     "metadata": {},
     "output_type": "execute_result"
    },
    {
     "data": {
      "image/png": "[encoded data removed]",
      "text/plain": [
       "<Figure size 360x360 with 1 Axes>"
      ]
     },
     "metadata": {
      "needs_background": "light"
     },
     "output_type": "display_data"
    }
   ],
   "source": [
    "# Displot the overall distribution of city mpg\n",
    "sns.displot(df['city mpg'])"
   ]
  },
  {
   "cell_type": "code",
   "execution_count": 17,
   "id": "99d3082b",
   "metadata": {},
   "outputs": [
    {
     "data": {
      "text/plain": [
       "<seaborn.axisgrid.FacetGrid at 0x7fe3dbf4aa60>"
      ]
     },
     "execution_count": 17,
     "metadata": {},
     "output_type": "execute_result"
    },
    {
     "data": {
      "image/png": "[encoded data removed]",
      "text/plain": [
       "<Figure size 360x360 with 1 Axes>"
      ]
     },
     "metadata": {
      "needs_background": "light"
     },
     "output_type": "display_data"
    }
   ],
   "source": [
    "# Displot the overall distribution of Popularity\n",
    "sns.displot(df['Popularity'])"
   ]
  },
  {
   "cell_type": "code",
   "execution_count": 18,
   "id": "697441a1",
   "metadata": {
    "scrolled": true
   },
   "outputs": [
    {
     "data": {
      "text/plain": [
       "<seaborn.axisgrid.FacetGrid at 0x7fe3d11b1e80>"
      ]
     },
     "execution_count": 18,
     "metadata": {},
     "output_type": "execute_result"
    },
    {
     "data": {
      "image/png": "[encoded data removed]",
      "text/plain": [
       "<Figure size 360x360 with 1 Axes>"
      ]
     },
     "metadata": {
      "needs_background": "light"
     },
     "output_type": "display_data"
    }
   ],
   "source": [
    "# Displot the overall distribution of MSRP, 1e6 means 1 * (10**6)\n",
    "sns.displot(df['MSRP'])"
   ]
  },
  {
   "cell_type": "markdown",
   "id": "5e4f9521",
   "metadata": {},
   "source": [
    "> **Evaluating all the numerical variables using displot(getting histogram of the feature):**<br><br>\n",
    ">We want to use histogram to take a look of the variables and help us decide whether we need to set a threshold to drop some data in order to make our model perform better."
   ]
  },
  {
   "cell_type": "code",
   "execution_count": 19,
   "id": "938c6ca9",
   "metadata": {
    "scrolled": false
   },
   "outputs": [
    {
     "name": "stderr",
     "output_type": "stream",
     "text": [
      "/Users/daniel/opt/anaconda3/lib/python3.9/site-packages/seaborn/_decorators.py:36: FutureWarning: Pass the following variable as a keyword arg: x. From version 0.12, the only valid positional argument will be `data`, and passing other arguments without an explicit keyword will result in an error or misinterpretation.\n",
      "  warnings.warn(\n"
     ]
    },
    {
     "data": {
      "text/plain": [
       "<AxesSubplot:xlabel='MSRP'>"
      ]
     },
     "execution_count": 19,
     "metadata": {},
     "output_type": "execute_result"
    },
    {
     "data": {
      "image/png": "[encoded data removed]",
      "text/plain": [
       "<Figure size 432x288 with 1 Axes>"
      ]
     },
     "metadata": {
      "needs_background": "light"
     },
     "output_type": "display_data"
    }
   ],
   "source": [
    "# Boxplot the target variable 'MSRP' to get closer look at the distribution of MSRP, 1e6 means 1 * (10**6)\n",
    "sns.boxplot(df['MSRP'])"
   ]
  },
  {
   "cell_type": "markdown",
   "id": "23a46c0e",
   "metadata": {},
   "source": [
    "> **Evaluating MSRP using boxplot:**<br><br>\n",
    ">Box plot shows the minimum, lower quartile, median, upper quartile, and maximum, and outliers of the target variables.\n",
    "> With the box plot, we can take a closer look at the outliers of the MSRP comparing to the graph above, there are some outliers pricing from 1.5e6 to 2e6."
   ]
  },
  {
   "cell_type": "markdown",
   "id": "156029b0",
   "metadata": {},
   "source": [
    "> **Setting thresholds for numerical features:**<br><br>\n",
    ">- Engine HP: < 700\n",
    ">- highway MPG: < 50\n",
    ">- city mpg: < 40\n",
    ">- Popularity:< 4000"
   ]
  },
  {
   "cell_type": "code",
   "execution_count": 20,
   "id": "0655db9a",
   "metadata": {},
   "outputs": [
    {
     "name": "stdout",
     "output_type": "stream",
     "text": [
      "<class 'pandas.core.frame.DataFrame'>\n",
      "RangeIndex: 11914 entries, 0 to 11913\n",
      "Data columns (total 15 columns):\n",
      " #   Column             Non-Null Count  Dtype  \n",
      "---  ------             --------------  -----  \n",
      " 0   Make               11914 non-null  object \n",
      " 1   Model              11914 non-null  object \n",
      " 2   Year               11914 non-null  int64  \n",
      " 3   Engine Fuel Type   11914 non-null  object \n",
      " 4   Engine HP          11914 non-null  float64\n",
      " 5   Engine Cylinders   11914 non-null  float64\n",
      " 6   Transmission Type  11914 non-null  object \n",
      " 7   Driven_Wheels      11914 non-null  object \n",
      " 8   Number of Doors    11914 non-null  float64\n",
      " 9   Vehicle Size       11914 non-null  object \n",
      " 10  Vehicle Style      11914 non-null  object \n",
      " 11  highway MPG        11914 non-null  int64  \n",
      " 12  city mpg           11914 non-null  int64  \n",
      " 13  Popularity         11914 non-null  int64  \n",
      " 14  MSRP               11914 non-null  int64  \n",
      "dtypes: float64(3), int64(5), object(7)\n",
      "memory usage: 1.4+ MB\n"
     ]
    }
   ],
   "source": [
    "df.info()"
   ]
  },
  {
   "cell_type": "code",
   "execution_count": 21,
   "id": "d6677104",
   "metadata": {
    "scrolled": true
   },
   "outputs": [
    {
     "name": "stdout",
     "output_type": "stream",
     "text": [
      "Number of records BEFORE outlier handling: 11914\n",
      "Number of records AFTER outlier handling: 10096\n"
     ]
    }
   ],
   "source": [
    "# Remove outliers based on thresholds described above\n",
    "print('Number of records BEFORE outlier handling:', len(df))\n",
    "df = df[df['Engine HP'] < 700]\n",
    "df = df[df['highway MPG'] < 50]\n",
    "df = df[df['city mpg'] < 40]\n",
    "df = df[df['Popularity'] < 2500]\n",
    "print('Number of records AFTER outlier handling:', len(df))"
   ]
  },
  {
   "cell_type": "code",
   "execution_count": 22,
   "id": "a44418f3",
   "metadata": {},
   "outputs": [],
   "source": [
    "#df.info()"
   ]
  },
  {
   "cell_type": "code",
   "execution_count": 23,
   "id": "7fd81f92",
   "metadata": {},
   "outputs": [
    {
     "data": {
      "text/plain": [
       "<seaborn.axisgrid.FacetGrid at 0x7fe3db6a8940>"
      ]
     },
     "execution_count": 23,
     "metadata": {},
     "output_type": "execute_result"
    },
    {
     "data": {
      "image/png": "[encoded data removed]",
      "text/plain": [
       "<Figure size 360x360 with 1 Axes>"
      ]
     },
     "metadata": {
      "needs_background": "light"
     },
     "output_type": "display_data"
    }
   ],
   "source": [
    "# Displot the overall distribution of Engine HP after setting threshold\n",
    "sns.displot(df['Engine HP'])"
   ]
  },
  {
   "cell_type": "code",
   "execution_count": 24,
   "id": "0486e1a5",
   "metadata": {},
   "outputs": [
    {
     "data": {
      "text/plain": [
       "<seaborn.axisgrid.FacetGrid at 0x7fe3d1be6f40>"
      ]
     },
     "execution_count": 24,
     "metadata": {},
     "output_type": "execute_result"
    },
    {
     "data": {
      "image/png": "[encoded data removed]",
      "text/plain": [
       "<Figure size 360x360 with 1 Axes>"
      ]
     },
     "metadata": {
      "needs_background": "light"
     },
     "output_type": "display_data"
    }
   ],
   "source": [
    "# Displot the overall distribution of highway mpg after setting threshold\n",
    "sns.displot(df['highway MPG'])"
   ]
  },
  {
   "cell_type": "code",
   "execution_count": 25,
   "id": "463cf01b",
   "metadata": {},
   "outputs": [
    {
     "data": {
      "text/plain": [
       "<seaborn.axisgrid.FacetGrid at 0x7fe3dc2a6af0>"
      ]
     },
     "execution_count": 25,
     "metadata": {},
     "output_type": "execute_result"
    },
    {
     "data": {
      "image/png": "[encoded data removed]",
      "text/plain": [
       "<Figure size 360x360 with 1 Axes>"
      ]
     },
     "metadata": {
      "needs_background": "light"
     },
     "output_type": "display_data"
    }
   ],
   "source": [
    "# Displot the overall distribution of city mpg after setting threshold\n",
    "sns.displot(df['city mpg'])"
   ]
  },
  {
   "cell_type": "code",
   "execution_count": 26,
   "id": "3d6b9199",
   "metadata": {
    "scrolled": false
   },
   "outputs": [
    {
     "data": {
      "text/plain": [
       "<seaborn.axisgrid.FacetGrid at 0x7fe3d1e27700>"
      ]
     },
     "execution_count": 26,
     "metadata": {},
     "output_type": "execute_result"
    },
    {
     "data": {
      "image/png": "[encoded data removed]",
      "text/plain": [
       "<Figure size 360x360 with 1 Axes>"
      ]
     },
     "metadata": {
      "needs_background": "light"
     },
     "output_type": "display_data"
    }
   ],
   "source": [
    "# Displot the overall distribution of Popularity after setting threshold\n",
    "sns.displot(df['Popularity'])"
   ]
  },
  {
   "cell_type": "markdown",
   "id": "92b6fe3e",
   "metadata": {},
   "source": [
    "> **Draw the histogram again after setting threshold for the variables:**<br><br>\n",
    ">- The histograms are more concentrated after setting the threshold, we hope this could make our model prediction more accurate."
   ]
  },
  {
   "cell_type": "code",
   "execution_count": 27,
   "id": "8accb894",
   "metadata": {
    "scrolled": true
   },
   "outputs": [
    {
     "data": {
      "text/plain": [
       "<AxesSubplot:xlabel='MSRP'>"
      ]
     },
     "execution_count": 27,
     "metadata": {},
     "output_type": "execute_result"
    },
    {
     "data": {
      "image/png": "[encoded data removed]",
      "text/plain": [
       "<Figure size 1080x576 with 1 Axes>"
      ]
     },
     "metadata": {},
     "output_type": "display_data"
    }
   ],
   "source": [
    "# Find the correlations between our target variable and the remaining numerical features\n",
    "# Instead of displaying in a heatmap or table, let's drop those values into a horizontal barchart\n",
    "# for easier viewing\n",
    "a = df[numerical_vars].corr()[['MSRP']].round(2)\n",
    "sns.set(rc= {'figure.figsize':(15,8)})\n",
    "sns.barplot(x=a.MSRP[1:],y=a.index[1:],data=a, orient='h')"
   ]
  },
  {
   "cell_type": "markdown",
   "id": "116aa1de",
   "metadata": {},
   "source": [
    "> **Initial evaluations and observations of numerical features by using barchart:**<br><br>\n",
    ">The correlations between features and MSRP:\n",
    ">1. Engine HP (+): Same as we expected. Greater Engine HP comes from better engine, which will increase the cost of the car and thus increases the car price.\n",
    ">2. Engine Cylinders (+): Same as we expected. Engine cylinder is the power unit of the engine, more engine cylinders creates more power but also increases the cost of the car and thus increases the car price.\n",
    ">3. Number of Doors (-): We thought this feature doesn't have impact on the price. Maybe it is because sportscar usually has two doors, and sportscar price is usually higher than other cars.\n",
    ">4. highway MPG (-): Not as we expected. Maybe it is because small cars usually have higher highway MPG than the big cars, and the prices of the small cars are usually less than the big cars.\n",
    ">5. city mpg (-):Not as we expected. Maybe it is because small cars usually have higher city mpg than the big cars, and the prices of the small cars are usually less than the big cars.\n",
    ">6. Popularity (-): Same as we expected. Lower price means it is affordable to more people, and attract more people's attention."
   ]
  },
  {
   "cell_type": "markdown",
   "id": "42f161f0",
   "metadata": {},
   "source": [
    "> **Intial evaluations and observations of categorical features:**<br><br>\n",
    ">The categorical features in the data:\n",
    ">1. Make\n",
    ">2. Model\n",
    ">3. Engine Fuel Type\n",
    ">4. Transmission Type\n",
    ">5. Driven_Wheels\n",
    ">6. Market Category(already drop the column due to the large number of missing values)\n",
    ">7. Vehicle Size\n",
    ">8. Vehicle Style"
   ]
  },
  {
   "cell_type": "code",
   "execution_count": 28,
   "id": "0f733e22",
   "metadata": {},
   "outputs": [],
   "source": [
    "#df.info()"
   ]
  },
  {
   "cell_type": "code",
   "execution_count": 29,
   "id": "50a83bed",
   "metadata": {
    "scrolled": false
   },
   "outputs": [
    {
     "data": {
      "text/html": [
       "<div>\n",
       "<style scoped>\n",
       "    .dataframe tbody tr th:only-of-type {\n",
       "        vertical-align: middle;\n",
       "    }\n",
       "\n",
       "    .dataframe tbody tr th {\n",
       "        vertical-align: top;\n",
       "    }\n",
       "\n",
       "    .dataframe thead th {\n",
       "        text-align: right;\n",
       "    }\n",
       "</style>\n",
       "<table border=\"1\" class=\"dataframe\">\n",
       "  <thead>\n",
       "    <tr style=\"text-align: right;\">\n",
       "      <th></th>\n",
       "      <th>mean</th>\n",
       "      <th>diff</th>\n",
       "    </tr>\n",
       "    <tr>\n",
       "      <th>Make</th>\n",
       "      <th></th>\n",
       "      <th></th>\n",
       "    </tr>\n",
       "  </thead>\n",
       "  <tbody>\n",
       "    <tr>\n",
       "      <th>Acura</th>\n",
       "      <td>34887.59</td>\n",
       "      <td>-3461.68</td>\n",
       "    </tr>\n",
       "    <tr>\n",
       "      <th>Alfa Romeo</th>\n",
       "      <td>61600.00</td>\n",
       "      <td>23250.73</td>\n",
       "    </tr>\n",
       "    <tr>\n",
       "      <th>Aston Martin</th>\n",
       "      <td>197910.38</td>\n",
       "      <td>159561.11</td>\n",
       "    </tr>\n",
       "    <tr>\n",
       "      <th>Bentley</th>\n",
       "      <td>247169.32</td>\n",
       "      <td>208820.05</td>\n",
       "    </tr>\n",
       "    <tr>\n",
       "      <th>Buick</th>\n",
       "      <td>28206.61</td>\n",
       "      <td>-10142.66</td>\n",
       "    </tr>\n",
       "    <tr>\n",
       "      <th>Cadillac</th>\n",
       "      <td>56231.32</td>\n",
       "      <td>17882.05</td>\n",
       "    </tr>\n",
       "    <tr>\n",
       "      <th>Chevrolet</th>\n",
       "      <td>28346.14</td>\n",
       "      <td>-10003.13</td>\n",
       "    </tr>\n",
       "    <tr>\n",
       "      <th>Chrysler</th>\n",
       "      <td>26722.96</td>\n",
       "      <td>-11626.31</td>\n",
       "    </tr>\n",
       "    <tr>\n",
       "      <th>Dodge</th>\n",
       "      <td>21992.35</td>\n",
       "      <td>-16356.92</td>\n",
       "    </tr>\n",
       "    <tr>\n",
       "      <th>FIAT</th>\n",
       "      <td>22206.02</td>\n",
       "      <td>-16143.25</td>\n",
       "    </tr>\n",
       "    <tr>\n",
       "      <th>GMC</th>\n",
       "      <td>30493.30</td>\n",
       "      <td>-7855.97</td>\n",
       "    </tr>\n",
       "    <tr>\n",
       "      <th>Genesis</th>\n",
       "      <td>46616.67</td>\n",
       "      <td>8267.40</td>\n",
       "    </tr>\n",
       "    <tr>\n",
       "      <th>HUMMER</th>\n",
       "      <td>36464.41</td>\n",
       "      <td>-1884.86</td>\n",
       "    </tr>\n",
       "    <tr>\n",
       "      <th>Honda</th>\n",
       "      <td>26742.65</td>\n",
       "      <td>-11606.62</td>\n",
       "    </tr>\n",
       "    <tr>\n",
       "      <th>Hyundai</th>\n",
       "      <td>24592.39</td>\n",
       "      <td>-13756.88</td>\n",
       "    </tr>\n",
       "    <tr>\n",
       "      <th>Infiniti</th>\n",
       "      <td>42394.21</td>\n",
       "      <td>4044.94</td>\n",
       "    </tr>\n",
       "    <tr>\n",
       "      <th>Kia</th>\n",
       "      <td>25112.39</td>\n",
       "      <td>-13236.88</td>\n",
       "    </tr>\n",
       "    <tr>\n",
       "      <th>Lamborghini</th>\n",
       "      <td>290022.50</td>\n",
       "      <td>251673.23</td>\n",
       "    </tr>\n",
       "    <tr>\n",
       "      <th>Land Rover</th>\n",
       "      <td>67823.22</td>\n",
       "      <td>29473.95</td>\n",
       "    </tr>\n",
       "    <tr>\n",
       "      <th>Lexus</th>\n",
       "      <td>47891.80</td>\n",
       "      <td>9542.53</td>\n",
       "    </tr>\n",
       "    <tr>\n",
       "      <th>Lincoln</th>\n",
       "      <td>43036.11</td>\n",
       "      <td>4686.84</td>\n",
       "    </tr>\n",
       "    <tr>\n",
       "      <th>Lotus</th>\n",
       "      <td>69188.28</td>\n",
       "      <td>30839.01</td>\n",
       "    </tr>\n",
       "    <tr>\n",
       "      <th>Maserati</th>\n",
       "      <td>114207.71</td>\n",
       "      <td>75858.44</td>\n",
       "    </tr>\n",
       "    <tr>\n",
       "      <th>Maybach</th>\n",
       "      <td>546221.88</td>\n",
       "      <td>507872.61</td>\n",
       "    </tr>\n",
       "    <tr>\n",
       "      <th>Mazda</th>\n",
       "      <td>20039.38</td>\n",
       "      <td>-18309.89</td>\n",
       "    </tr>\n",
       "    <tr>\n",
       "      <th>McLaren</th>\n",
       "      <td>239805.00</td>\n",
       "      <td>201455.73</td>\n",
       "    </tr>\n",
       "    <tr>\n",
       "      <th>Mercedes-Benz</th>\n",
       "      <td>71738.03</td>\n",
       "      <td>33388.76</td>\n",
       "    </tr>\n",
       "    <tr>\n",
       "      <th>Mitsubishi</th>\n",
       "      <td>21215.47</td>\n",
       "      <td>-17133.80</td>\n",
       "    </tr>\n",
       "    <tr>\n",
       "      <th>Nissan</th>\n",
       "      <td>28513.37</td>\n",
       "      <td>-9835.90</td>\n",
       "    </tr>\n",
       "    <tr>\n",
       "      <th>Oldsmobile</th>\n",
       "      <td>11542.54</td>\n",
       "      <td>-26806.73</td>\n",
       "    </tr>\n",
       "    <tr>\n",
       "      <th>Plymouth</th>\n",
       "      <td>3122.90</td>\n",
       "      <td>-35226.37</td>\n",
       "    </tr>\n",
       "    <tr>\n",
       "      <th>Pontiac</th>\n",
       "      <td>19321.55</td>\n",
       "      <td>-19027.72</td>\n",
       "    </tr>\n",
       "    <tr>\n",
       "      <th>Porsche</th>\n",
       "      <td>101622.40</td>\n",
       "      <td>63273.13</td>\n",
       "    </tr>\n",
       "    <tr>\n",
       "      <th>Rolls-Royce</th>\n",
       "      <td>351130.65</td>\n",
       "      <td>312781.38</td>\n",
       "    </tr>\n",
       "    <tr>\n",
       "      <th>Saab</th>\n",
       "      <td>27413.50</td>\n",
       "      <td>-10935.77</td>\n",
       "    </tr>\n",
       "    <tr>\n",
       "      <th>Scion</th>\n",
       "      <td>19932.50</td>\n",
       "      <td>-18416.77</td>\n",
       "    </tr>\n",
       "    <tr>\n",
       "      <th>Spyker</th>\n",
       "      <td>213323.33</td>\n",
       "      <td>174974.06</td>\n",
       "    </tr>\n",
       "    <tr>\n",
       "      <th>Subaru</th>\n",
       "      <td>24827.50</td>\n",
       "      <td>-13521.77</td>\n",
       "    </tr>\n",
       "    <tr>\n",
       "      <th>Suzuki</th>\n",
       "      <td>17907.21</td>\n",
       "      <td>-20442.06</td>\n",
       "    </tr>\n",
       "    <tr>\n",
       "      <th>Toyota</th>\n",
       "      <td>29018.92</td>\n",
       "      <td>-9330.35</td>\n",
       "    </tr>\n",
       "    <tr>\n",
       "      <th>Volkswagen</th>\n",
       "      <td>28063.79</td>\n",
       "      <td>-10285.48</td>\n",
       "    </tr>\n",
       "    <tr>\n",
       "      <th>Volvo</th>\n",
       "      <td>28541.16</td>\n",
       "      <td>-9808.11</td>\n",
       "    </tr>\n",
       "  </tbody>\n",
       "</table>\n",
       "</div>"
      ],
      "text/plain": [
       "                    mean       diff\n",
       "Make                               \n",
       "Acura           34887.59   -3461.68\n",
       "Alfa Romeo      61600.00   23250.73\n",
       "Aston Martin   197910.38  159561.11\n",
       "Bentley        247169.32  208820.05\n",
       "Buick           28206.61  -10142.66\n",
       "Cadillac        56231.32   17882.05\n",
       "Chevrolet       28346.14  -10003.13\n",
       "Chrysler        26722.96  -11626.31\n",
       "Dodge           21992.35  -16356.92\n",
       "FIAT            22206.02  -16143.25\n",
       "GMC             30493.30   -7855.97\n",
       "Genesis         46616.67    8267.40\n",
       "HUMMER          36464.41   -1884.86\n",
       "Honda           26742.65  -11606.62\n",
       "Hyundai         24592.39  -13756.88\n",
       "Infiniti        42394.21    4044.94\n",
       "Kia             25112.39  -13236.88\n",
       "Lamborghini    290022.50  251673.23\n",
       "Land Rover      67823.22   29473.95\n",
       "Lexus           47891.80    9542.53\n",
       "Lincoln         43036.11    4686.84\n",
       "Lotus           69188.28   30839.01\n",
       "Maserati       114207.71   75858.44\n",
       "Maybach        546221.88  507872.61\n",
       "Mazda           20039.38  -18309.89\n",
       "McLaren        239805.00  201455.73\n",
       "Mercedes-Benz   71738.03   33388.76\n",
       "Mitsubishi      21215.47  -17133.80\n",
       "Nissan          28513.37   -9835.90\n",
       "Oldsmobile      11542.54  -26806.73\n",
       "Plymouth         3122.90  -35226.37\n",
       "Pontiac         19321.55  -19027.72\n",
       "Porsche        101622.40   63273.13\n",
       "Rolls-Royce    351130.65  312781.38\n",
       "Saab            27413.50  -10935.77\n",
       "Scion           19932.50  -18416.77\n",
       "Spyker         213323.33  174974.06\n",
       "Subaru          24827.50  -13521.77\n",
       "Suzuki          17907.21  -20442.06\n",
       "Toyota          29018.92   -9330.35\n",
       "Volkswagen      28063.79  -10285.48\n",
       "Volvo           28541.16   -9808.11"
      ]
     },
     "metadata": {},
     "output_type": "display_data"
    },
    {
     "data": {
      "text/html": [
       "<div>\n",
       "<style scoped>\n",
       "    .dataframe tbody tr th:only-of-type {\n",
       "        vertical-align: middle;\n",
       "    }\n",
       "\n",
       "    .dataframe tbody tr th {\n",
       "        vertical-align: top;\n",
       "    }\n",
       "\n",
       "    .dataframe thead th {\n",
       "        text-align: right;\n",
       "    }\n",
       "</style>\n",
       "<table border=\"1\" class=\"dataframe\">\n",
       "  <thead>\n",
       "    <tr style=\"text-align: right;\">\n",
       "      <th></th>\n",
       "      <th>mean</th>\n",
       "      <th>diff</th>\n",
       "    </tr>\n",
       "    <tr>\n",
       "      <th>Model</th>\n",
       "      <th></th>\n",
       "      <th></th>\n",
       "    </tr>\n",
       "  </thead>\n",
       "  <tbody>\n",
       "    <tr>\n",
       "      <th>124 Spider</th>\n",
       "      <td>26895.00</td>\n",
       "      <td>-11454.27</td>\n",
       "    </tr>\n",
       "    <tr>\n",
       "      <th>190-Class</th>\n",
       "      <td>2000.00</td>\n",
       "      <td>-36349.27</td>\n",
       "    </tr>\n",
       "    <tr>\n",
       "      <th>2</th>\n",
       "      <td>15821.67</td>\n",
       "      <td>-22527.60</td>\n",
       "    </tr>\n",
       "    <tr>\n",
       "      <th>200</th>\n",
       "      <td>26582.17</td>\n",
       "      <td>-11767.10</td>\n",
       "    </tr>\n",
       "    <tr>\n",
       "      <th>200SX</th>\n",
       "      <td>2008.11</td>\n",
       "      <td>-36341.16</td>\n",
       "    </tr>\n",
       "    <tr>\n",
       "      <th>...</th>\n",
       "      <td>...</td>\n",
       "      <td>...</td>\n",
       "    </tr>\n",
       "    <tr>\n",
       "      <th>iQ</th>\n",
       "      <td>16168.75</td>\n",
       "      <td>-22180.52</td>\n",
       "    </tr>\n",
       "    <tr>\n",
       "      <th>tC</th>\n",
       "      <td>21546.43</td>\n",
       "      <td>-16802.84</td>\n",
       "    </tr>\n",
       "    <tr>\n",
       "      <th>xA</th>\n",
       "      <td>12996.67</td>\n",
       "      <td>-25352.60</td>\n",
       "    </tr>\n",
       "    <tr>\n",
       "      <th>xB</th>\n",
       "      <td>18444.50</td>\n",
       "      <td>-19904.77</td>\n",
       "    </tr>\n",
       "    <tr>\n",
       "      <th>xD</th>\n",
       "      <td>16683.00</td>\n",
       "      <td>-21666.27</td>\n",
       "    </tr>\n",
       "  </tbody>\n",
       "</table>\n",
       "<p>755 rows × 2 columns</p>\n",
       "</div>"
      ],
      "text/plain": [
       "                mean      diff\n",
       "Model                         \n",
       "124 Spider  26895.00 -11454.27\n",
       "190-Class    2000.00 -36349.27\n",
       "2           15821.67 -22527.60\n",
       "200         26582.17 -11767.10\n",
       "200SX        2008.11 -36341.16\n",
       "...              ...       ...\n",
       "iQ          16168.75 -22180.52\n",
       "tC          21546.43 -16802.84\n",
       "xA          12996.67 -25352.60\n",
       "xB          18444.50 -19904.77\n",
       "xD          16683.00 -21666.27\n",
       "\n",
       "[755 rows x 2 columns]"
      ]
     },
     "metadata": {},
     "output_type": "display_data"
    },
    {
     "data": {
      "text/html": [
       "<div>\n",
       "<style scoped>\n",
       "    .dataframe tbody tr th:only-of-type {\n",
       "        vertical-align: middle;\n",
       "    }\n",
       "\n",
       "    .dataframe tbody tr th {\n",
       "        vertical-align: top;\n",
       "    }\n",
       "\n",
       "    .dataframe thead th {\n",
       "        text-align: right;\n",
       "    }\n",
       "</style>\n",
       "<table border=\"1\" class=\"dataframe\">\n",
       "  <thead>\n",
       "    <tr style=\"text-align: right;\">\n",
       "      <th></th>\n",
       "      <th>mean</th>\n",
       "      <th>diff</th>\n",
       "    </tr>\n",
       "    <tr>\n",
       "      <th>Engine Fuel Type</th>\n",
       "      <th></th>\n",
       "      <th></th>\n",
       "    </tr>\n",
       "  </thead>\n",
       "  <tbody>\n",
       "    <tr>\n",
       "      <th>diesel</th>\n",
       "      <td>35354.26</td>\n",
       "      <td>-2995.01</td>\n",
       "    </tr>\n",
       "    <tr>\n",
       "      <th>flex-fuel (premium unleaded recommended/E85)</th>\n",
       "      <td>49935.24</td>\n",
       "      <td>11585.97</td>\n",
       "    </tr>\n",
       "    <tr>\n",
       "      <th>flex-fuel (premium unleaded required/E85)</th>\n",
       "      <td>159429.35</td>\n",
       "      <td>121080.08</td>\n",
       "    </tr>\n",
       "    <tr>\n",
       "      <th>flex-fuel (unleaded/E85)</th>\n",
       "      <td>36757.55</td>\n",
       "      <td>-1591.72</td>\n",
       "    </tr>\n",
       "    <tr>\n",
       "      <th>flex-fuel (unleaded/natural gas)</th>\n",
       "      <td>39194.17</td>\n",
       "      <td>844.90</td>\n",
       "    </tr>\n",
       "    <tr>\n",
       "      <th>natural gas</th>\n",
       "      <td>28065.00</td>\n",
       "      <td>-10284.27</td>\n",
       "    </tr>\n",
       "    <tr>\n",
       "      <th>premium unleaded (recommended)</th>\n",
       "      <td>40777.21</td>\n",
       "      <td>2427.94</td>\n",
       "    </tr>\n",
       "    <tr>\n",
       "      <th>premium unleaded (required)</th>\n",
       "      <td>98867.01</td>\n",
       "      <td>60517.74</td>\n",
       "    </tr>\n",
       "    <tr>\n",
       "      <th>regular unleaded</th>\n",
       "      <td>23087.92</td>\n",
       "      <td>-15261.35</td>\n",
       "    </tr>\n",
       "  </tbody>\n",
       "</table>\n",
       "</div>"
      ],
      "text/plain": [
       "                                                   mean       diff\n",
       "Engine Fuel Type                                                  \n",
       "diesel                                         35354.26   -2995.01\n",
       "flex-fuel (premium unleaded recommended/E85)   49935.24   11585.97\n",
       "flex-fuel (premium unleaded required/E85)     159429.35  121080.08\n",
       "flex-fuel (unleaded/E85)                       36757.55   -1591.72\n",
       "flex-fuel (unleaded/natural gas)               39194.17     844.90\n",
       "natural gas                                    28065.00  -10284.27\n",
       "premium unleaded (recommended)                 40777.21    2427.94\n",
       "premium unleaded (required)                    98867.01   60517.74\n",
       "regular unleaded                               23087.92  -15261.35"
      ]
     },
     "metadata": {},
     "output_type": "display_data"
    },
    {
     "data": {
      "text/html": [
       "<div>\n",
       "<style scoped>\n",
       "    .dataframe tbody tr th:only-of-type {\n",
       "        vertical-align: middle;\n",
       "    }\n",
       "\n",
       "    .dataframe tbody tr th {\n",
       "        vertical-align: top;\n",
       "    }\n",
       "\n",
       "    .dataframe thead th {\n",
       "        text-align: right;\n",
       "    }\n",
       "</style>\n",
       "<table border=\"1\" class=\"dataframe\">\n",
       "  <thead>\n",
       "    <tr style=\"text-align: right;\">\n",
       "      <th></th>\n",
       "      <th>mean</th>\n",
       "      <th>diff</th>\n",
       "    </tr>\n",
       "    <tr>\n",
       "      <th>Transmission Type</th>\n",
       "      <th></th>\n",
       "      <th></th>\n",
       "    </tr>\n",
       "  </thead>\n",
       "  <tbody>\n",
       "    <tr>\n",
       "      <th>AUTOMATED_MANUAL</th>\n",
       "      <td>75194.35</td>\n",
       "      <td>36845.08</td>\n",
       "    </tr>\n",
       "    <tr>\n",
       "      <th>AUTOMATIC</th>\n",
       "      <td>41119.45</td>\n",
       "      <td>2770.18</td>\n",
       "    </tr>\n",
       "    <tr>\n",
       "      <th>MANUAL</th>\n",
       "      <td>24989.80</td>\n",
       "      <td>-13359.47</td>\n",
       "    </tr>\n",
       "    <tr>\n",
       "      <th>UNKNOWN</th>\n",
       "      <td>3040.74</td>\n",
       "      <td>-35308.53</td>\n",
       "    </tr>\n",
       "  </tbody>\n",
       "</table>\n",
       "</div>"
      ],
      "text/plain": [
       "                       mean      diff\n",
       "Transmission Type                    \n",
       "AUTOMATED_MANUAL   75194.35  36845.08\n",
       "AUTOMATIC          41119.45   2770.18\n",
       "MANUAL             24989.80 -13359.47\n",
       "UNKNOWN             3040.74 -35308.53"
      ]
     },
     "metadata": {},
     "output_type": "display_data"
    },
    {
     "data": {
      "text/html": [
       "<div>\n",
       "<style scoped>\n",
       "    .dataframe tbody tr th:only-of-type {\n",
       "        vertical-align: middle;\n",
       "    }\n",
       "\n",
       "    .dataframe tbody tr th {\n",
       "        vertical-align: top;\n",
       "    }\n",
       "\n",
       "    .dataframe thead th {\n",
       "        text-align: right;\n",
       "    }\n",
       "</style>\n",
       "<table border=\"1\" class=\"dataframe\">\n",
       "  <thead>\n",
       "    <tr style=\"text-align: right;\">\n",
       "      <th></th>\n",
       "      <th>mean</th>\n",
       "      <th>diff</th>\n",
       "    </tr>\n",
       "    <tr>\n",
       "      <th>Driven_Wheels</th>\n",
       "      <th></th>\n",
       "      <th></th>\n",
       "    </tr>\n",
       "  </thead>\n",
       "  <tbody>\n",
       "    <tr>\n",
       "      <th>all wheel drive</th>\n",
       "      <td>53211.48</td>\n",
       "      <td>14862.21</td>\n",
       "    </tr>\n",
       "    <tr>\n",
       "      <th>four wheel drive</th>\n",
       "      <td>35842.31</td>\n",
       "      <td>-2506.96</td>\n",
       "    </tr>\n",
       "    <tr>\n",
       "      <th>front wheel drive</th>\n",
       "      <td>22781.63</td>\n",
       "      <td>-15567.64</td>\n",
       "    </tr>\n",
       "    <tr>\n",
       "      <th>rear wheel drive</th>\n",
       "      <td>53759.46</td>\n",
       "      <td>15410.19</td>\n",
       "    </tr>\n",
       "  </tbody>\n",
       "</table>\n",
       "</div>"
      ],
      "text/plain": [
       "                       mean      diff\n",
       "Driven_Wheels                        \n",
       "all wheel drive    53211.48  14862.21\n",
       "four wheel drive   35842.31  -2506.96\n",
       "front wheel drive  22781.63 -15567.64\n",
       "rear wheel drive   53759.46  15410.19"
      ]
     },
     "metadata": {},
     "output_type": "display_data"
    },
    {
     "data": {
      "text/html": [
       "<div>\n",
       "<style scoped>\n",
       "    .dataframe tbody tr th:only-of-type {\n",
       "        vertical-align: middle;\n",
       "    }\n",
       "\n",
       "    .dataframe tbody tr th {\n",
       "        vertical-align: top;\n",
       "    }\n",
       "\n",
       "    .dataframe thead th {\n",
       "        text-align: right;\n",
       "    }\n",
       "</style>\n",
       "<table border=\"1\" class=\"dataframe\">\n",
       "  <thead>\n",
       "    <tr style=\"text-align: right;\">\n",
       "      <th></th>\n",
       "      <th>mean</th>\n",
       "      <th>diff</th>\n",
       "    </tr>\n",
       "    <tr>\n",
       "      <th>Vehicle Size</th>\n",
       "      <th></th>\n",
       "      <th></th>\n",
       "    </tr>\n",
       "  </thead>\n",
       "  <tbody>\n",
       "    <tr>\n",
       "      <th>Compact</th>\n",
       "      <td>30600.17</td>\n",
       "      <td>-7749.10</td>\n",
       "    </tr>\n",
       "    <tr>\n",
       "      <th>Large</th>\n",
       "      <td>55144.61</td>\n",
       "      <td>16795.34</td>\n",
       "    </tr>\n",
       "    <tr>\n",
       "      <th>Midsize</th>\n",
       "      <td>36824.50</td>\n",
       "      <td>-1524.77</td>\n",
       "    </tr>\n",
       "  </tbody>\n",
       "</table>\n",
       "</div>"
      ],
      "text/plain": [
       "                  mean      diff\n",
       "Vehicle Size                    \n",
       "Compact       30600.17  -7749.10\n",
       "Large         55144.61  16795.34\n",
       "Midsize       36824.50  -1524.77"
      ]
     },
     "metadata": {},
     "output_type": "display_data"
    },
    {
     "data": {
      "text/html": [
       "<div>\n",
       "<style scoped>\n",
       "    .dataframe tbody tr th:only-of-type {\n",
       "        vertical-align: middle;\n",
       "    }\n",
       "\n",
       "    .dataframe tbody tr th {\n",
       "        vertical-align: top;\n",
       "    }\n",
       "\n",
       "    .dataframe thead th {\n",
       "        text-align: right;\n",
       "    }\n",
       "</style>\n",
       "<table border=\"1\" class=\"dataframe\">\n",
       "  <thead>\n",
       "    <tr style=\"text-align: right;\">\n",
       "      <th></th>\n",
       "      <th>mean</th>\n",
       "      <th>diff</th>\n",
       "    </tr>\n",
       "    <tr>\n",
       "      <th>Vehicle Style</th>\n",
       "      <th></th>\n",
       "      <th></th>\n",
       "    </tr>\n",
       "  </thead>\n",
       "  <tbody>\n",
       "    <tr>\n",
       "      <th>2dr Hatchback</th>\n",
       "      <td>17332.43</td>\n",
       "      <td>-21016.84</td>\n",
       "    </tr>\n",
       "    <tr>\n",
       "      <th>2dr SUV</th>\n",
       "      <td>8893.43</td>\n",
       "      <td>-29455.84</td>\n",
       "    </tr>\n",
       "    <tr>\n",
       "      <th>4dr Hatchback</th>\n",
       "      <td>20711.04</td>\n",
       "      <td>-17638.23</td>\n",
       "    </tr>\n",
       "    <tr>\n",
       "      <th>4dr SUV</th>\n",
       "      <td>39727.34</td>\n",
       "      <td>1378.07</td>\n",
       "    </tr>\n",
       "    <tr>\n",
       "      <th>Cargo Minivan</th>\n",
       "      <td>20605.00</td>\n",
       "      <td>-17744.27</td>\n",
       "    </tr>\n",
       "    <tr>\n",
       "      <th>Cargo Van</th>\n",
       "      <td>14051.90</td>\n",
       "      <td>-24297.37</td>\n",
       "    </tr>\n",
       "    <tr>\n",
       "      <th>Convertible</th>\n",
       "      <td>80801.70</td>\n",
       "      <td>42452.43</td>\n",
       "    </tr>\n",
       "    <tr>\n",
       "      <th>Convertible SUV</th>\n",
       "      <td>17424.14</td>\n",
       "      <td>-20925.13</td>\n",
       "    </tr>\n",
       "    <tr>\n",
       "      <th>Coupe</th>\n",
       "      <td>63665.38</td>\n",
       "      <td>25316.11</td>\n",
       "    </tr>\n",
       "    <tr>\n",
       "      <th>Crew Cab Pickup</th>\n",
       "      <td>36561.60</td>\n",
       "      <td>-1787.67</td>\n",
       "    </tr>\n",
       "    <tr>\n",
       "      <th>Extended Cab Pickup</th>\n",
       "      <td>22248.43</td>\n",
       "      <td>-16100.84</td>\n",
       "    </tr>\n",
       "    <tr>\n",
       "      <th>Passenger Minivan</th>\n",
       "      <td>25973.03</td>\n",
       "      <td>-12376.24</td>\n",
       "    </tr>\n",
       "    <tr>\n",
       "      <th>Passenger Van</th>\n",
       "      <td>24189.58</td>\n",
       "      <td>-14159.69</td>\n",
       "    </tr>\n",
       "    <tr>\n",
       "      <th>Regular Cab Pickup</th>\n",
       "      <td>15531.71</td>\n",
       "      <td>-22817.56</td>\n",
       "    </tr>\n",
       "    <tr>\n",
       "      <th>Sedan</th>\n",
       "      <td>38110.40</td>\n",
       "      <td>-238.87</td>\n",
       "    </tr>\n",
       "    <tr>\n",
       "      <th>Wagon</th>\n",
       "      <td>24525.70</td>\n",
       "      <td>-13823.57</td>\n",
       "    </tr>\n",
       "  </tbody>\n",
       "</table>\n",
       "</div>"
      ],
      "text/plain": [
       "                         mean      diff\n",
       "Vehicle Style                          \n",
       "2dr Hatchback        17332.43 -21016.84\n",
       "2dr SUV               8893.43 -29455.84\n",
       "4dr Hatchback        20711.04 -17638.23\n",
       "4dr SUV              39727.34   1378.07\n",
       "Cargo Minivan        20605.00 -17744.27\n",
       "Cargo Van            14051.90 -24297.37\n",
       "Convertible          80801.70  42452.43\n",
       "Convertible SUV      17424.14 -20925.13\n",
       "Coupe                63665.38  25316.11\n",
       "Crew Cab Pickup      36561.60  -1787.67\n",
       "Extended Cab Pickup  22248.43 -16100.84\n",
       "Passenger Minivan    25973.03 -12376.24\n",
       "Passenger Van        24189.58 -14159.69\n",
       "Regular Cab Pickup   15531.71 -22817.56\n",
       "Sedan                38110.40   -238.87\n",
       "Wagon                24525.70 -13823.57"
      ]
     },
     "metadata": {},
     "output_type": "display_data"
    }
   ],
   "source": [
    "# Create temp dataframe with target and categorical variables only\n",
    "categorical = ['object']\n",
    "X = pd.merge(df['MSRP'],df.select_dtypes(include=categorical),left_index=True,right_index=True)\n",
    "\n",
    "# Compute average target values for all categorical alternatives\n",
    "target_by_cats(X)"
   ]
  },
  {
   "cell_type": "code",
   "execution_count": 30,
   "id": "fffeaf55",
   "metadata": {},
   "outputs": [],
   "source": [
    "#df.info()"
   ]
  },
  {
   "cell_type": "code",
   "execution_count": 31,
   "id": "14415fb4",
   "metadata": {
    "scrolled": true
   },
   "outputs": [],
   "source": [
    "#Find the number of unique value for each categorical features\n",
    "#df['Make'].nunique()\n",
    "#df['Model'].nunique()\n",
    "#df['Engine Fuel Type'].nunique()\n",
    "#df['Transmission Type'].nunique()\n",
    "#df['Driven_Wheels'].nunique()\n",
    "#df['Vehicle Size'].nunique()\n",
    "#df['Vehicle Style'].nunique()"
   ]
  },
  {
   "cell_type": "markdown",
   "id": "25f07602",
   "metadata": {},
   "source": [
    ">**Assessment of Categorical Features:**<br><br>\n",
    ">Features that seem to matter:<br>\n",
    ">1. **Make** (42 unique values): too much unique values\n",
    ">2. **Model** (755 unique values): too much unique values\n",
    ">3. **Engine Fuel Type** (9 unique values): too much unique values\n",
    ">4. **Transmission Type** (4 unique values)\n",
    ">5. **Driven_Wheels** (4 unique values)\n",
    ">6. **Vehicle Size** (3 unique values)\n",
    ">7. **Vehicle Style** (16 unique values): too much unique values\n",
    "<br>\n",
    "\n",
    ">Drop:<br>\n",
    ">- We do not drop any categorical features"
   ]
  },
  {
   "cell_type": "code",
   "execution_count": 32,
   "id": "26bc3def",
   "metadata": {
    "scrolled": true
   },
   "outputs": [],
   "source": [
    "#df.info()"
   ]
  },
  {
   "cell_type": "code",
   "execution_count": 33,
   "id": "72c1acfd",
   "metadata": {},
   "outputs": [],
   "source": [
    "# Keep top 4 Makes and label all the rest as \"OTHER\"\n",
    "keep = df['Make'].value_counts().index[:4]\n",
    "df['Make'] = np.where(df['Make'].isin(keep), df['Make'], 'OTHER')\n",
    "\n",
    "# Keep top 4 Models and label all the rest as \"OTHER\"\n",
    "keep = df['Model'].value_counts().index[:4]\n",
    "df['Model'] = np.where(df['Model'].isin(keep), df['Model'], 'OTHER')\n",
    "\n",
    "# Keep top 4 Engine Fuel Types and label all the rest as \"OTHER\"\n",
    "keep = df['Engine Fuel Type'].value_counts().index[:4]\n",
    "df['Engine Fuel Type'] = np.where(df['Engine Fuel Type'].isin(keep), df['Engine Fuel Type'], 'OTHER')\n",
    "\n",
    "# Keep top 4 Vehicle Styles and label all the rest as \"OTHER\"\n",
    "keep = df['Vehicle Style'].value_counts().index[:4]\n",
    "df['Vehicle Style'] = np.where(df['Vehicle Style'].isin(keep), df['Vehicle Style'], 'OTHER')"
   ]
  },
  {
   "cell_type": "code",
   "execution_count": 34,
   "id": "9ad530bb",
   "metadata": {},
   "outputs": [],
   "source": [
    "# Create a new version of 'MSRP' - a log tranformation\n",
    "df['ln_msrp'] = np.log1p(df['MSRP'])\n",
    "\n",
    "# Flag categorical variables and convert to dummies\n",
    "cat_vars = ['Make','Model','Engine Fuel Type',\n",
    "            'Transmission Type','Driven_Wheels','Vehicle Size','Vehicle Style'\n",
    "           ]\n",
    "for var in cat_vars:\n",
    "    df[var] = df[var].astype(\"category\")\n",
    "# Conver to dummies\n",
    "#df = pd.get_dummies(df['Make'])\n",
    "df = pd.get_dummies(df,columns=cat_vars, prefix_sep='_', drop_first=True)"
   ]
  },
  {
   "cell_type": "code",
   "execution_count": 35,
   "id": "7346e7e6",
   "metadata": {
    "scrolled": false
   },
   "outputs": [],
   "source": [
    "#df.info()"
   ]
  },
  {
   "cell_type": "code",
   "execution_count": 47,
   "id": "3ad63baa",
   "metadata": {
    "scrolled": true
   },
   "outputs": [],
   "source": [
    "#df.head()"
   ]
  },
  {
   "cell_type": "markdown",
   "id": "1714d3c0",
   "metadata": {},
   "source": [
    ">**Feature Transformation:**<br><br>\n",
    ">- Target feature(MSRP): log transformation\n",
    ">- Other categorical features: if the unique values of the categorical variables is greater than 4, we will keep the top 4 and label all the rest as 'OTHER', after that we encoded the variables\n",
    ">-The first category for each categorical variable was dropped<br>"
   ]
  },
  {
   "cell_type": "markdown",
   "id": "cfabb8ab",
   "metadata": {},
   "source": [
    "> **Data Partitioning:** <a class=\"anchor\" id=\"data-split\"></a>\n",
    "<br>\n",
    ">To Do:<br>\n",
    ">1. Put all potential predictor variables into new object called 'X'\n",
    ">2. Put target variable in new object called 'y'\n",
    ">3. Partition data into training set and testing set<br>"
   ]
  },
  {
   "cell_type": "markdown",
   "id": "45b4f8a7",
   "metadata": {},
   "source": [
    "# 5.Training and Testing Model<a class=\"anchor\" id=\"train-test-model\"></a>\n",
    "* [Go to Top](#table-of-content)"
   ]
  },
  {
   "cell_type": "code",
   "execution_count": 36,
   "id": "e8047217",
   "metadata": {},
   "outputs": [],
   "source": [
    "predictors = ['Year', 'Engine HP', 'Engine Cylinders', 'Number of Doors','highway MPG','city mpg','Popularity',\n",
    "              'Make_Dodge', 'Make_OTHER','Make_Toyota','Make_Volkswagen','Model_OTHER','Model_Sierra 1500',\n",
    "              'Model_Silverado 1500', 'Model_Tundra','Engine Fuel Type_flex-fuel (unleaded/E85)','Engine Fuel Type_premium unleaded (recommended)',\n",
    "              'Engine Fuel Type_premium unleaded (required)', 'Engine Fuel Type_regular unleaded','Transmission Type_AUTOMATIC','Transmission Type_MANUAL',\n",
    "              'Transmission Type_UNKNOWN','Driven_Wheels_four wheel drive','Driven_Wheels_front wheel drive','Driven_Wheels_rear wheel drive',\n",
    "              'Vehicle Size_Large','Vehicle Size_Midsize','Vehicle Style_Convertible','Vehicle Style_Coupe','Vehicle Style_OTHER','Vehicle Style_Sedan']\n",
    "\n",
    "target = ['ln_msrp']\n",
    "\n",
    "X = df[predictors]\n",
    "y = df[target]\n",
    "\n",
    "# Split data\n",
    "X_train,X_test,y_train,y_test = train_test_split(X,y, test_size=0.3,random_state=1)"
   ]
  },
  {
   "cell_type": "markdown",
   "id": "e12ac9bd",
   "metadata": {},
   "source": [
    "# 6.Machine Learning<a class=\"anchor\" id=\"machine-learning\"></a>\n",
    "- [X] [Model1](#first-model)\n",
    "- [X] [Model2](#second-model)\n",
    "- [X] [Model3](#third-model)\n",
    "- [X] [Conclusion](#conclusion)\n",
    "* [Go to Top](#table-of-content)"
   ]
  },
  {
   "cell_type": "markdown",
   "id": "f187db00",
   "metadata": {},
   "source": [
    "> **Model 1** <a class=\"anchor\" id=\"first-model\"></a>\n",
    "<br>\n",
    ">Instructions:<br>\n",
    ">Simple regression model:\n",
    ">- For this model - since we can only use one explanatory variable - we choose 'Engine HP'\n",
    ">- The reason is that 'Engine HP' variable had the highest correlation with MSRP\n",
    ">- Evaluate MAPE and R2- use as simple baseline model for future reference"
   ]
  },
  {
   "cell_type": "code",
   "execution_count": 37,
   "id": "e696a278",
   "metadata": {
    "scrolled": true
   },
   "outputs": [
    {
     "name": "stdout",
     "output_type": "stream",
     "text": [
      "           Train      Test\n",
      "R2         0.460     0.453\n",
      "Adj-R2     0.460     0.453\n",
      "MAE        0.602     0.580\n",
      "MAPE       6.600     6.300\n",
      "SSE     4738.782  1857.240\n"
     ]
    }
   ],
   "source": [
    "simple_var = ['Engine HP']\n",
    "\n",
    "model = LinearRegression()\n",
    "model.fit(X_train[simple_var],y_train)\n",
    "\n",
    "# Display Output\n",
    "train_test_metrics(X_train[simple_var],X_test[simple_var],y_train,y_test,model)"
   ]
  },
  {
   "cell_type": "code",
   "execution_count": 38,
   "id": "3f6394da",
   "metadata": {},
   "outputs": [
    {
     "data": {
      "text/plain": [
       "0.72"
      ]
     },
     "execution_count": 38,
     "metadata": {},
     "output_type": "execute_result"
    }
   ],
   "source": [
    "# Since our target variable was tranformed with the natural log function\n",
    "# we need to do the following conversion of our predictor variable coefficient\n",
    "# to more easily interpret it\n",
    "round((math.exp(model.coef_[0])-1)*100,2)"
   ]
  },
  {
   "cell_type": "markdown",
   "id": "6986c831",
   "metadata": {},
   "source": [
    ">**Model 1 Summary:**<br>\n",
    ">The MAPE for training data is 6.600, and the MAPE for test data is 6.300. The MAPE seems to be high. The small difference indicates that Engine HP really matters when predicting MSRP. Besides, according to the R2 score of the testing data, only about 45 % of price variation can be explained by our model, so it seems that we need to add more explanatory variables to help our model perform better.\n",
    "<br><br>\n",
    ">**Coefficient Interpretation:**<br>\n",
    ">Using the conversion above we get 0.72.\n",
    ">In words, this means that for each additional Engine HP we expect the MSRP to increase by 0.72%, all other things held constant.\n",
    "<br><br>\n",
    ">**Overfitting:**<br>\n",
    ">No overfitting here - The MAPE of Training data and Tesing data are close\n",
    ">It is a surprise that we only one explanatory variable, the model doesn't have a large difference between the Training data and Testing data.\n",
    "<br><br>\n",
    ">[Go to Machine Learning Outline](#machine-learning)"
   ]
  },
  {
   "cell_type": "markdown",
   "id": "74c9cdbb",
   "metadata": {},
   "source": [
    "> **Model 2** <a class=\"anchor\" id=\"second-model\"></a>\n",
    "<br>\n",
    ">Instructions:<br>\n",
    "Regression model:\n",
    ">- For this model - we should include ONE continuous numerical feature and ONE categorical variable - we choose 'Engine HP' and 'Transmission Type_AUTOMATIC'\n",
    ">- The reason is that 'Engine HP' variable had the highest correlation with MSRP, and 'Transmission Type_AUTOMATIC' is the most popular among the transmission types\n",
    ">- Evaluate MAPE and R2 - compare the results with model 1"
   ]
  },
  {
   "cell_type": "code",
   "execution_count": 39,
   "id": "bb836963",
   "metadata": {},
   "outputs": [
    {
     "name": "stdout",
     "output_type": "stream",
     "text": [
      "           Train      Test\n",
      "R2         0.489     0.485\n",
      "Adj-R2     0.489     0.485\n",
      "MAE        0.580     0.560\n",
      "MAPE       6.400     6.100\n",
      "SSE     4488.440  1748.018\n"
     ]
    }
   ],
   "source": [
    "predictors = ['Engine HP','Transmission Type_AUTOMATIC']\n",
    "\n",
    "model2 = LinearRegression()\n",
    "model2.fit(X_train[predictors],y_train)\n",
    "\n",
    "# Display Output\n",
    "train_test_metrics(X_train[predictors],X_test[predictors],y_train,y_test,model2)"
   ]
  },
  {
   "cell_type": "code",
   "execution_count": 40,
   "id": "de8c7662",
   "metadata": {},
   "outputs": [
    {
     "name": "stdout",
     "output_type": "stream",
     "text": [
      "Engine HP effect on MSRP: 0.69\n",
      "Transmission Type_AUTOMATIC effect on MSRP: 52.46\n"
     ]
    }
   ],
   "source": [
    "# coef_: array of shape (n_features, ) or (n_targets, n_features)\n",
    "print('Engine HP effect on MSRP:', round((math.exp(model2.coef_[0][0])-1)*100,2))\n",
    "print('Transmission Type_AUTOMATIC effect on MSRP:', round((math.exp(model2.coef_[0][1])-1)*100,2))"
   ]
  },
  {
   "cell_type": "markdown",
   "id": "0afd8295",
   "metadata": {},
   "source": [
    ">**Model 2 Summary:**<br>\n",
    ">The MAPE for training data is 6.400, and my MAPE for test data is 6.100. The MAPE seems to be high. Transmission Type seems to have greater effect MSRP compared to Engine HP. Besides, according to the R2 score of the testing data, about 48 % of price variation can be explained by our model, although the performance if better than model 1, the percentage is still too low and we should add more variables to make our model better.\n",
    "<br><br>\n",
    ">**Coefficient Interpretation:**<br>\n",
    ">Using the conversion above, we get 0.69 for Engine HP and 52.46 for Transmission Type_AUTOMATIC.\n",
    "<br><br>\n",
    ">**Overfitting:**<br>\n",
    ">No overfitting here - The MAPE of training data and testing data are close.\n",
    ">There isn't a significant difference between the performance of MAPE in model 1 and model 2.\n",
    "<br><br>\n",
    ">[Go to Machine Learning Outline](#machine-learning)"
   ]
  },
  {
   "cell_type": "markdown",
   "id": "44db52e8",
   "metadata": {},
   "source": [
    "> **Model 3** <a class=\"anchor\" id=\"third-model\"></a>\n",
    "<br>\n",
    ">Instructions:<br>\n",
    ">Regression model:\n",
    ">- For this model - we can use as many features as we want - we choose 'Engine HP', 'Enigne Cylinders', and all of the Transmission Types.\n",
    ">- The reason is that 'Engine HP' and 'Engine Cylinders' are the only two numerical variables that has a positive correlation with MSRP. Seeing from model 2 that 'Transmission Type_AUTOMATIC' matters when predicting MSRP, we want to add other transmission types in this model.\n",
    ">- Evaluate MAPE and R2."
   ]
  },
  {
   "cell_type": "code",
   "execution_count": 41,
   "id": "26f47ca4",
   "metadata": {},
   "outputs": [
    {
     "name": "stdout",
     "output_type": "stream",
     "text": [
      "           Train      Test\n",
      "R2         0.572     0.563\n",
      "Adj-R2     0.572     0.563\n",
      "MAE        0.526     0.502\n",
      "MAPE       5.700     5.400\n",
      "SSE     3753.984  1482.570\n"
     ]
    }
   ],
   "source": [
    "predictors = ['Engine HP','Engine Cylinders','Transmission Type_AUTOMATIC','Transmission Type_MANUAL','Transmission Type_UNKNOWN']\n",
    "\n",
    "model3 = LinearRegression()\n",
    "model3.fit(X_train[predictors],y_train)\n",
    "\n",
    "# Display Output\n",
    "train_test_metrics(X_train[predictors],X_test[predictors],y_train,y_test,model3)"
   ]
  },
  {
   "cell_type": "markdown",
   "id": "d9f10b90",
   "metadata": {},
   "source": [
    ">**Model 3 Summary:**<br>\n",
    ">The MAPE for training data is 5.700, and the MAPE for test data is 5.400. The MAPE seems to be high, but the value is smaller than the previous two model, indicating that the variables we added in our predictors has positive effect on our model. Besides, according to the R2 score of the testing data, about 56 % of price variation can be explained by our model, the performance is improving but still far from being a good model.\n",
    "<br><br>\n",
    ">**Overfitting:**<br>\n",
    ">No overfitting here - the MAPE of training and testing are close.\n",
    "<br><br>\n",
    ">[Go to Machine Learning Outline](#machine-learning)"
   ]
  },
  {
   "cell_type": "markdown",
   "id": "d7eac11c",
   "metadata": {},
   "source": [
    ">**Conclusion:**<br><a class=\"anchor\" id=\"conclusion\"></a>\n",
    ">- Final model's(model 3) performance: We are not satisfied with the performance of the final model. Although the r2 of the final model is better than the previous 2 model, the percentage is still too low. We hope the r2 of the be over 80%.\n",
    ">- Proposition for next steps: Maybe adding more categorical variables in the predictors since the remaining numerical variables doesn't has a positive correlation with our target variable.\n",
    ">- What would I do differently if I could:  I would drop the missing values instead of filling it if the missing value number is too large(>10) because the more missing values we fill in, the more chance we may fill in a wrong value and thus making our prediction performance worse.\n",
    ">- Things we want to communicate to business leadership in the industry: Since both 'Engine HP' and 'Engine Cylinders' have a positive correlation with car price(MSRP), car corporates can try to calculate the cost of increasing Engine HP or Engine Cylinders of their cars, and compare to the extra revenue they can earn by increasing the price. If the extra revenue is larger than the cost, then it might be feasible strategy for the car corporate to increase Engine HP or Engine Cylinders of their car.\n",
    "<br><br>\n",
    ">[Go to Machine Learning Outline](#machine-learning)"
   ]
  },
  {
   "cell_type": "code",
   "execution_count": null,
   "id": "38e4d4a0",
   "metadata": {},
   "outputs": [],
   "source": []
  }
 ],
 "metadata": {
  "kernelspec": {
   "display_name": "Python 3 (ipykernel)",
   "language": "python",
   "name": "python3"
  },
  "language_info": {
   "codemirror_mode": {
    "name": "ipython",
    "version": 3
   },
   "file_extension": ".py",
   "mimetype": "text/x-python",
   "name": "python",
   "nbconvert_exporter": "python",
   "pygments_lexer": "ipython3",
   "version": "3.9.7"
  }
 },
 "nbformat": 4,
 "nbformat_minor": 5
}
